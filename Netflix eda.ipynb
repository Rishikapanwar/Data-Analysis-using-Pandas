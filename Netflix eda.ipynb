{
 "cells": [
  {
   "cell_type": "markdown",
   "id": "82eccdf6",
   "metadata": {},
   "source": [
    "# NETFLIX EDA: Rishika"
   ]
  },
  {
   "cell_type": "code",
   "execution_count": 1,
   "id": "4d7c7715",
   "metadata": {},
   "outputs": [],
   "source": [
    "import pandas as pd\n",
    "import numpy as np\n",
    "from matplotlib import pyplot as plt\n",
    "import seaborn as sns\n"
   ]
  },
  {
   "cell_type": "code",
   "execution_count": 2,
   "id": "8c7d1a2e",
   "metadata": {},
   "outputs": [],
   "source": [
    "df=pd.read_csv('netflix.csv')"
   ]
  },
  {
   "cell_type": "code",
   "execution_count": 3,
   "id": "8e896c2a",
   "metadata": {},
   "outputs": [
    {
     "name": "stdout",
     "output_type": "stream",
     "text": [
      "<class 'pandas.core.frame.DataFrame'>\n",
      "RangeIndex: 6234 entries, 0 to 6233\n",
      "Data columns (total 12 columns):\n",
      " #   Column        Non-Null Count  Dtype \n",
      "---  ------        --------------  ----- \n",
      " 0   show_id       6234 non-null   int64 \n",
      " 1   type          6234 non-null   object\n",
      " 2   title         6234 non-null   object\n",
      " 3   director      4265 non-null   object\n",
      " 4   cast          5664 non-null   object\n",
      " 5   country       5758 non-null   object\n",
      " 6   date_added    6223 non-null   object\n",
      " 7   release_year  6234 non-null   int64 \n",
      " 8   rating        6224 non-null   object\n",
      " 9   duration      6234 non-null   object\n",
      " 10  listed_in     6234 non-null   object\n",
      " 11  description   6234 non-null   object\n",
      "dtypes: int64(2), object(10)\n",
      "memory usage: 584.6+ KB\n"
     ]
    }
   ],
   "source": [
    "df.info()"
   ]
  },
  {
   "cell_type": "code",
   "execution_count": 205,
   "id": "a1ee4386",
   "metadata": {},
   "outputs": [
    {
     "data": {
      "text/html": [
       "<div>\n",
       "<style scoped>\n",
       "    .dataframe tbody tr th:only-of-type {\n",
       "        vertical-align: middle;\n",
       "    }\n",
       "\n",
       "    .dataframe tbody tr th {\n",
       "        vertical-align: top;\n",
       "    }\n",
       "\n",
       "    .dataframe thead th {\n",
       "        text-align: right;\n",
       "    }\n",
       "</style>\n",
       "<table border=\"1\" class=\"dataframe\">\n",
       "  <thead>\n",
       "    <tr style=\"text-align: right;\">\n",
       "      <th></th>\n",
       "      <th>show_id</th>\n",
       "      <th>type</th>\n",
       "      <th>title</th>\n",
       "      <th>director</th>\n",
       "      <th>cast</th>\n",
       "      <th>country</th>\n",
       "      <th>date_added</th>\n",
       "      <th>release_year</th>\n",
       "      <th>rating</th>\n",
       "      <th>duration</th>\n",
       "      <th>listed_in</th>\n",
       "      <th>description</th>\n",
       "      <th>actors</th>\n",
       "    </tr>\n",
       "  </thead>\n",
       "  <tbody>\n",
       "    <tr>\n",
       "      <th>0</th>\n",
       "      <td>81145628</td>\n",
       "      <td>Movie</td>\n",
       "      <td>Norm of the North: King Sized Adventure</td>\n",
       "      <td>Richard Finn, Tim Maltby</td>\n",
       "      <td>Alan Marriott, Andrew Toth, Brian Dobson, Cole...</td>\n",
       "      <td>United States, India, South Korea, China</td>\n",
       "      <td>September 9, 2019</td>\n",
       "      <td>2019</td>\n",
       "      <td>TV-PG</td>\n",
       "      <td>90 min</td>\n",
       "      <td>Children &amp; Family Movies, Comedies</td>\n",
       "      <td>Before planning an awesome wedding for his gra...</td>\n",
       "      <td>[Alan Marriott,  Andrew Toth,  Brian Dobson,  ...</td>\n",
       "    </tr>\n",
       "    <tr>\n",
       "      <th>1</th>\n",
       "      <td>80117401</td>\n",
       "      <td>Movie</td>\n",
       "      <td>Jandino: Whatever it Takes</td>\n",
       "      <td>NaN</td>\n",
       "      <td>Jandino Asporaat</td>\n",
       "      <td>United Kingdom</td>\n",
       "      <td>September 9, 2016</td>\n",
       "      <td>2016</td>\n",
       "      <td>TV-MA</td>\n",
       "      <td>94 min</td>\n",
       "      <td>Stand-Up Comedy</td>\n",
       "      <td>Jandino Asporaat riffs on the challenges of ra...</td>\n",
       "      <td>[Jandino Asporaat]</td>\n",
       "    </tr>\n",
       "    <tr>\n",
       "      <th>2</th>\n",
       "      <td>70234439</td>\n",
       "      <td>TV Show</td>\n",
       "      <td>Transformers Prime</td>\n",
       "      <td>NaN</td>\n",
       "      <td>Peter Cullen, Sumalee Montano, Frank Welker, J...</td>\n",
       "      <td>United States</td>\n",
       "      <td>September 8, 2018</td>\n",
       "      <td>2013</td>\n",
       "      <td>TV-Y7-FV</td>\n",
       "      <td>1 Season</td>\n",
       "      <td>Kids' TV</td>\n",
       "      <td>With the help of three human allies, the Autob...</td>\n",
       "      <td>[Peter Cullen,  Sumalee Montano,  Frank Welker...</td>\n",
       "    </tr>\n",
       "    <tr>\n",
       "      <th>3</th>\n",
       "      <td>80058654</td>\n",
       "      <td>TV Show</td>\n",
       "      <td>Transformers: Robots in Disguise</td>\n",
       "      <td>NaN</td>\n",
       "      <td>Will Friedle, Darren Criss, Constance Zimmer, ...</td>\n",
       "      <td>United States</td>\n",
       "      <td>September 8, 2018</td>\n",
       "      <td>2016</td>\n",
       "      <td>TV-Y7</td>\n",
       "      <td>1 Season</td>\n",
       "      <td>Kids' TV</td>\n",
       "      <td>When a prison ship crash unleashes hundreds of...</td>\n",
       "      <td>[Will Friedle,  Darren Criss,  Constance Zimme...</td>\n",
       "    </tr>\n",
       "    <tr>\n",
       "      <th>4</th>\n",
       "      <td>80125979</td>\n",
       "      <td>Movie</td>\n",
       "      <td>#realityhigh</td>\n",
       "      <td>Fernando Lebrija</td>\n",
       "      <td>Nesta Cooper, Kate Walsh, John Michael Higgins...</td>\n",
       "      <td>United States</td>\n",
       "      <td>September 8, 2017</td>\n",
       "      <td>2017</td>\n",
       "      <td>TV-14</td>\n",
       "      <td>99 min</td>\n",
       "      <td>Comedies</td>\n",
       "      <td>When nerdy high schooler Dani finally attracts...</td>\n",
       "      <td>[Nesta Cooper,  Kate Walsh,  John Michael Higg...</td>\n",
       "    </tr>\n",
       "  </tbody>\n",
       "</table>\n",
       "</div>"
      ],
      "text/plain": [
       "    show_id     type                                    title  \\\n",
       "0  81145628    Movie  Norm of the North: King Sized Adventure   \n",
       "1  80117401    Movie               Jandino: Whatever it Takes   \n",
       "2  70234439  TV Show                       Transformers Prime   \n",
       "3  80058654  TV Show         Transformers: Robots in Disguise   \n",
       "4  80125979    Movie                             #realityhigh   \n",
       "\n",
       "                   director  \\\n",
       "0  Richard Finn, Tim Maltby   \n",
       "1                       NaN   \n",
       "2                       NaN   \n",
       "3                       NaN   \n",
       "4          Fernando Lebrija   \n",
       "\n",
       "                                                cast  \\\n",
       "0  Alan Marriott, Andrew Toth, Brian Dobson, Cole...   \n",
       "1                                   Jandino Asporaat   \n",
       "2  Peter Cullen, Sumalee Montano, Frank Welker, J...   \n",
       "3  Will Friedle, Darren Criss, Constance Zimmer, ...   \n",
       "4  Nesta Cooper, Kate Walsh, John Michael Higgins...   \n",
       "\n",
       "                                    country         date_added  release_year  \\\n",
       "0  United States, India, South Korea, China  September 9, 2019          2019   \n",
       "1                            United Kingdom  September 9, 2016          2016   \n",
       "2                             United States  September 8, 2018          2013   \n",
       "3                             United States  September 8, 2018          2016   \n",
       "4                             United States  September 8, 2017          2017   \n",
       "\n",
       "     rating  duration                           listed_in  \\\n",
       "0     TV-PG    90 min  Children & Family Movies, Comedies   \n",
       "1     TV-MA    94 min                     Stand-Up Comedy   \n",
       "2  TV-Y7-FV  1 Season                            Kids' TV   \n",
       "3     TV-Y7  1 Season                            Kids' TV   \n",
       "4     TV-14    99 min                            Comedies   \n",
       "\n",
       "                                         description  \\\n",
       "0  Before planning an awesome wedding for his gra...   \n",
       "1  Jandino Asporaat riffs on the challenges of ra...   \n",
       "2  With the help of three human allies, the Autob...   \n",
       "3  When a prison ship crash unleashes hundreds of...   \n",
       "4  When nerdy high schooler Dani finally attracts...   \n",
       "\n",
       "                                              actors  \n",
       "0  [Alan Marriott,  Andrew Toth,  Brian Dobson,  ...  \n",
       "1                                 [Jandino Asporaat]  \n",
       "2  [Peter Cullen,  Sumalee Montano,  Frank Welker...  \n",
       "3  [Will Friedle,  Darren Criss,  Constance Zimme...  \n",
       "4  [Nesta Cooper,  Kate Walsh,  John Michael Higg...  "
      ]
     },
     "execution_count": 205,
     "metadata": {},
     "output_type": "execute_result"
    }
   ],
   "source": [
    "df.head()"
   ]
  },
  {
   "cell_type": "code",
   "execution_count": 5,
   "id": "51132233",
   "metadata": {},
   "outputs": [
    {
     "name": "stdout",
     "output_type": "stream",
     "text": [
      "show_id         False\n",
      "type            False\n",
      "title           False\n",
      "director         True\n",
      "cast             True\n",
      "country          True\n",
      "date_added       True\n",
      "release_year    False\n",
      "rating           True\n",
      "duration        False\n",
      "listed_in       False\n",
      "description     False\n",
      "dtype: bool\n"
     ]
    }
   ],
   "source": [
    "#cleaning the data\n",
    "print(df.isnull().any())"
   ]
  },
  {
   "cell_type": "code",
   "execution_count": 6,
   "id": "22c66ea1",
   "metadata": {},
   "outputs": [],
   "source": [
    "#removing the null values\n",
    "df['director'].dropna(inplace=True)\n",
    "df['cast'].dropna(inplace=True)\n",
    "df['country'].dropna(inplace=True)\n",
    "df['date_added'].dropna(inplace=True)\n",
    "df['rating'].dropna(inplace=True)"
   ]
  },
  {
   "cell_type": "code",
   "execution_count": 7,
   "id": "da4f720d",
   "metadata": {},
   "outputs": [
    {
     "data": {
      "text/plain": [
       "Raúl Campos, Jan Suter    18\n",
       "Marcus Raboy              14\n",
       "Jay Karas                 13\n",
       "Jay Chapman               12\n",
       "Steven Spielberg           9\n",
       "Name: director, dtype: int64"
      ]
     },
     "execution_count": 7,
     "metadata": {},
     "output_type": "execute_result"
    }
   ],
   "source": [
    "#Top directors\n",
    "df['director'].value_counts().head()"
   ]
  },
  {
   "cell_type": "code",
   "execution_count": 8,
   "id": "8e0b688a",
   "metadata": {},
   "outputs": [
    {
     "data": {
      "text/plain": [
       "<AxesSubplot:xlabel='count', ylabel='director'>"
      ]
     },
     "execution_count": 8,
     "metadata": {},
     "output_type": "execute_result"
    },
    {
     "data": {
      "image/png": "[encoded data removed]",
      "text/plain": [
       "<Figure size 432x288 with 1 Axes>"
      ]
     },
     "metadata": {
      "needs_background": "light"
     },
     "output_type": "display_data"
    }
   ],
   "source": [
    "sns.countplot(y=df.director, order=df.director.value_counts().index[:10])"
   ]
  },
  {
   "cell_type": "code",
   "execution_count": 10,
   "id": "aa34370e",
   "metadata": {},
   "outputs": [
    {
     "data": {
      "text/plain": [
       "type     type   \n",
       "Movie    Movie      4265\n",
       "TV Show  TV Show    1969\n",
       "Name: type, dtype: int64"
      ]
     },
     "execution_count": 10,
     "metadata": {},
     "output_type": "execute_result"
    }
   ],
   "source": [
    "#Ratio of Tvshows and Movies:\n",
    "df.groupby('type')['type'].value_counts()"
   ]
  },
  {
   "cell_type": "code",
   "execution_count": 12,
   "id": "f319ee14",
   "metadata": {},
   "outputs": [
    {
     "data": {
      "text/plain": [
       "([<matplotlib.patches.Wedge at 0x2c3ff062280>,\n",
       "  <matplotlib.patches.Wedge at 0x2c3ff062760>],\n",
       " [Text(-0.6014719407703795, 0.9209948449724967, 'Movie'),\n",
       "  Text(0.6014718545406157, -0.9209949012863603, 'TV Show')])"
      ]
     },
     "execution_count": 12,
     "metadata": {},
     "output_type": "execute_result"
    },
    {
     "data": {
      "image/png": "[encoded data removed]",
      "text/plain": [
       "<Figure size 432x288 with 1 Axes>"
      ]
     },
     "metadata": {},
     "output_type": "display_data"
    }
   ],
   "source": [
    "plt.pie(df.type.value_counts(), labels=df.type.value_counts().index)"
   ]
  },
  {
   "cell_type": "code",
   "execution_count": 48,
   "id": "5b814225",
   "metadata": {},
   "outputs": [
    {
     "data": {
      "text/plain": [
       "release_year  type   \n",
       "1925          TV Show      1\n",
       "1942          Movie        2\n",
       "1943          Movie        3\n",
       "1944          Movie        3\n",
       "1945          Movie        3\n",
       "                        ... \n",
       "2018          TV Show    417\n",
       "2019          TV Show    443\n",
       "              Movie      400\n",
       "2020          TV Show     19\n",
       "              Movie        6\n",
       "Name: type, Length: 115, dtype: int64"
      ]
     },
     "execution_count": 48,
     "metadata": {},
     "output_type": "execute_result"
    }
   ],
   "source": [
    "#Most watched movie in each year:\n",
    "df.groupby('release_year')['type'].value_counts()\n",
    "#df.groupby('release_year')['release_year'].value_counts()"
   ]
  },
  {
   "cell_type": "code",
   "execution_count": 263,
   "id": "9031be92",
   "metadata": {},
   "outputs": [
    {
     "data": {
      "text/html": [
       "<div>\n",
       "<style scoped>\n",
       "    .dataframe tbody tr th:only-of-type {\n",
       "        vertical-align: middle;\n",
       "    }\n",
       "\n",
       "    .dataframe tbody tr th {\n",
       "        vertical-align: top;\n",
       "    }\n",
       "\n",
       "    .dataframe thead th {\n",
       "        text-align: right;\n",
       "    }\n",
       "</style>\n",
       "<table border=\"1\" class=\"dataframe\">\n",
       "  <thead>\n",
       "    <tr style=\"text-align: right;\">\n",
       "      <th></th>\n",
       "      <th>show_id</th>\n",
       "      <th>type</th>\n",
       "      <th>title</th>\n",
       "      <th>director</th>\n",
       "      <th>cast</th>\n",
       "      <th>country</th>\n",
       "      <th>date_added</th>\n",
       "      <th>release_year</th>\n",
       "      <th>rating</th>\n",
       "      <th>duration</th>\n",
       "      <th>listed_in</th>\n",
       "      <th>description</th>\n",
       "      <th>actors</th>\n",
       "    </tr>\n",
       "  </thead>\n",
       "  <tbody>\n",
       "    <tr>\n",
       "      <th>0</th>\n",
       "      <td>81145628</td>\n",
       "      <td>Movie</td>\n",
       "      <td>Norm of the North: King Sized Adventure</td>\n",
       "      <td>Richard Finn, Tim Maltby</td>\n",
       "      <td>Alan Marriott, Andrew Toth, Brian Dobson, Cole...</td>\n",
       "      <td>United States, India, South Korea, China</td>\n",
       "      <td>September 9, 2019</td>\n",
       "      <td>2019</td>\n",
       "      <td>TV-PG</td>\n",
       "      <td>90 min</td>\n",
       "      <td>Children &amp; Family Movies, Comedies</td>\n",
       "      <td>Before planning an awesome wedding for his gra...</td>\n",
       "      <td>[Alan Marriott,  Andrew Toth,  Brian Dobson,  ...</td>\n",
       "    </tr>\n",
       "    <tr>\n",
       "      <th>1</th>\n",
       "      <td>80117401</td>\n",
       "      <td>Movie</td>\n",
       "      <td>Jandino: Whatever it Takes</td>\n",
       "      <td>NaN</td>\n",
       "      <td>Jandino Asporaat</td>\n",
       "      <td>United Kingdom</td>\n",
       "      <td>September 9, 2016</td>\n",
       "      <td>2016</td>\n",
       "      <td>TV-MA</td>\n",
       "      <td>94 min</td>\n",
       "      <td>Stand-Up Comedy</td>\n",
       "      <td>Jandino Asporaat riffs on the challenges of ra...</td>\n",
       "      <td>[Jandino Asporaat]</td>\n",
       "    </tr>\n",
       "    <tr>\n",
       "      <th>4</th>\n",
       "      <td>80125979</td>\n",
       "      <td>Movie</td>\n",
       "      <td>#realityhigh</td>\n",
       "      <td>Fernando Lebrija</td>\n",
       "      <td>Nesta Cooper, Kate Walsh, John Michael Higgins...</td>\n",
       "      <td>United States</td>\n",
       "      <td>September 8, 2017</td>\n",
       "      <td>2017</td>\n",
       "      <td>TV-14</td>\n",
       "      <td>99 min</td>\n",
       "      <td>Comedies</td>\n",
       "      <td>When nerdy high schooler Dani finally attracts...</td>\n",
       "      <td>[Nesta Cooper,  Kate Walsh,  John Michael Higg...</td>\n",
       "    </tr>\n",
       "    <tr>\n",
       "      <th>6</th>\n",
       "      <td>70304989</td>\n",
       "      <td>Movie</td>\n",
       "      <td>Automata</td>\n",
       "      <td>Gabe Ibáñez</td>\n",
       "      <td>Antonio Banderas, Dylan McDermott, Melanie Gri...</td>\n",
       "      <td>Bulgaria, United States, Spain, Canada</td>\n",
       "      <td>September 8, 2017</td>\n",
       "      <td>2014</td>\n",
       "      <td>R</td>\n",
       "      <td>110 min</td>\n",
       "      <td>International Movies, Sci-Fi &amp; Fantasy, Thrillers</td>\n",
       "      <td>In a dystopian future, an insurance adjuster f...</td>\n",
       "      <td>[Antonio Banderas,  Dylan McDermott,  Melanie ...</td>\n",
       "    </tr>\n",
       "    <tr>\n",
       "      <th>7</th>\n",
       "      <td>80164077</td>\n",
       "      <td>Movie</td>\n",
       "      <td>Fabrizio Copano: Solo pienso en mi</td>\n",
       "      <td>Rodrigo Toro, Francisco Schultz</td>\n",
       "      <td>Fabrizio Copano</td>\n",
       "      <td>Chile</td>\n",
       "      <td>September 8, 2017</td>\n",
       "      <td>2017</td>\n",
       "      <td>TV-MA</td>\n",
       "      <td>60 min</td>\n",
       "      <td>Stand-Up Comedy</td>\n",
       "      <td>Fabrizio Copano takes audience participation t...</td>\n",
       "      <td>[Fabrizio Copano]</td>\n",
       "    </tr>\n",
       "    <tr>\n",
       "      <th>...</th>\n",
       "      <td>...</td>\n",
       "      <td>...</td>\n",
       "      <td>...</td>\n",
       "      <td>...</td>\n",
       "      <td>...</td>\n",
       "      <td>...</td>\n",
       "      <td>...</td>\n",
       "      <td>...</td>\n",
       "      <td>...</td>\n",
       "      <td>...</td>\n",
       "      <td>...</td>\n",
       "      <td>...</td>\n",
       "      <td>...</td>\n",
       "    </tr>\n",
       "    <tr>\n",
       "      <th>5577</th>\n",
       "      <td>80085438</td>\n",
       "      <td>Movie</td>\n",
       "      <td>Frank and Cindy</td>\n",
       "      <td>G.J. Echternkamp</td>\n",
       "      <td>NaN</td>\n",
       "      <td>United States</td>\n",
       "      <td>April 1, 2016</td>\n",
       "      <td>2007</td>\n",
       "      <td>TV-MA</td>\n",
       "      <td>70 min</td>\n",
       "      <td>Documentaries</td>\n",
       "      <td>Frank was a rising pop star when he married Ci...</td>\n",
       "      <td>NaN</td>\n",
       "    </tr>\n",
       "    <tr>\n",
       "      <th>5578</th>\n",
       "      <td>80085439</td>\n",
       "      <td>Movie</td>\n",
       "      <td>Frank and Cindy</td>\n",
       "      <td>G.J. Echternkamp</td>\n",
       "      <td>Rene Russo, Oliver Platt, Johnny Simmons, Jane...</td>\n",
       "      <td>United States</td>\n",
       "      <td>April 1, 2016</td>\n",
       "      <td>2015</td>\n",
       "      <td>R</td>\n",
       "      <td>102 min</td>\n",
       "      <td>Comedies, Dramas, Independent Movies</td>\n",
       "      <td>A student filmmaker vengefully turns his camer...</td>\n",
       "      <td>[Rene Russo,  Oliver Platt,  Johnny Simmons,  ...</td>\n",
       "    </tr>\n",
       "    <tr>\n",
       "      <th>5579</th>\n",
       "      <td>80011846</td>\n",
       "      <td>Movie</td>\n",
       "      <td>Iverson</td>\n",
       "      <td>Zatella Beatty</td>\n",
       "      <td>Allen Iverson</td>\n",
       "      <td>United States</td>\n",
       "      <td>April 1, 2016</td>\n",
       "      <td>2014</td>\n",
       "      <td>NR</td>\n",
       "      <td>88 min</td>\n",
       "      <td>Documentaries, Sports Movies</td>\n",
       "      <td>This unfiltered documentary follows the rocky ...</td>\n",
       "      <td>[Allen Iverson]</td>\n",
       "    </tr>\n",
       "    <tr>\n",
       "      <th>5580</th>\n",
       "      <td>80064521</td>\n",
       "      <td>Movie</td>\n",
       "      <td>Jeremy Scott: The People's Designer</td>\n",
       "      <td>Vlad Yudin</td>\n",
       "      <td>Jeremy Scott</td>\n",
       "      <td>United States</td>\n",
       "      <td>April 1, 2016</td>\n",
       "      <td>2015</td>\n",
       "      <td>PG-13</td>\n",
       "      <td>109 min</td>\n",
       "      <td>Documentaries</td>\n",
       "      <td>The journey of fashion designer Jeremy Scott f...</td>\n",
       "      <td>[Jeremy Scott]</td>\n",
       "    </tr>\n",
       "    <tr>\n",
       "      <th>6231</th>\n",
       "      <td>80116008</td>\n",
       "      <td>Movie</td>\n",
       "      <td>Little Baby Bum: Nursery Rhyme Friends</td>\n",
       "      <td>NaN</td>\n",
       "      <td>NaN</td>\n",
       "      <td>NaN</td>\n",
       "      <td>NaN</td>\n",
       "      <td>2016</td>\n",
       "      <td>NaN</td>\n",
       "      <td>60 min</td>\n",
       "      <td>Movies</td>\n",
       "      <td>Nursery rhymes and original music for children...</td>\n",
       "      <td>NaN</td>\n",
       "    </tr>\n",
       "  </tbody>\n",
       "</table>\n",
       "<p>4265 rows × 13 columns</p>\n",
       "</div>"
      ],
      "text/plain": [
       "       show_id   type                                    title  \\\n",
       "0     81145628  Movie  Norm of the North: King Sized Adventure   \n",
       "1     80117401  Movie               Jandino: Whatever it Takes   \n",
       "4     80125979  Movie                             #realityhigh   \n",
       "6     70304989  Movie                                 Automata   \n",
       "7     80164077  Movie       Fabrizio Copano: Solo pienso en mi   \n",
       "...        ...    ...                                      ...   \n",
       "5577  80085438  Movie                          Frank and Cindy   \n",
       "5578  80085439  Movie                          Frank and Cindy   \n",
       "5579  80011846  Movie                                  Iverson   \n",
       "5580  80064521  Movie      Jeremy Scott: The People's Designer   \n",
       "6231  80116008  Movie   Little Baby Bum: Nursery Rhyme Friends   \n",
       "\n",
       "                             director  \\\n",
       "0            Richard Finn, Tim Maltby   \n",
       "1                                 NaN   \n",
       "4                    Fernando Lebrija   \n",
       "6                         Gabe Ibáñez   \n",
       "7     Rodrigo Toro, Francisco Schultz   \n",
       "...                               ...   \n",
       "5577                 G.J. Echternkamp   \n",
       "5578                 G.J. Echternkamp   \n",
       "5579                   Zatella Beatty   \n",
       "5580                       Vlad Yudin   \n",
       "6231                              NaN   \n",
       "\n",
       "                                                   cast  \\\n",
       "0     Alan Marriott, Andrew Toth, Brian Dobson, Cole...   \n",
       "1                                      Jandino Asporaat   \n",
       "4     Nesta Cooper, Kate Walsh, John Michael Higgins...   \n",
       "6     Antonio Banderas, Dylan McDermott, Melanie Gri...   \n",
       "7                                       Fabrizio Copano   \n",
       "...                                                 ...   \n",
       "5577                                                NaN   \n",
       "5578  Rene Russo, Oliver Platt, Johnny Simmons, Jane...   \n",
       "5579                                      Allen Iverson   \n",
       "5580                                       Jeremy Scott   \n",
       "6231                                                NaN   \n",
       "\n",
       "                                       country         date_added  \\\n",
       "0     United States, India, South Korea, China  September 9, 2019   \n",
       "1                               United Kingdom  September 9, 2016   \n",
       "4                                United States  September 8, 2017   \n",
       "6       Bulgaria, United States, Spain, Canada  September 8, 2017   \n",
       "7                                        Chile  September 8, 2017   \n",
       "...                                        ...                ...   \n",
       "5577                             United States      April 1, 2016   \n",
       "5578                             United States      April 1, 2016   \n",
       "5579                             United States      April 1, 2016   \n",
       "5580                             United States      April 1, 2016   \n",
       "6231                                       NaN                NaN   \n",
       "\n",
       "      release_year rating duration  \\\n",
       "0             2019  TV-PG   90 min   \n",
       "1             2016  TV-MA   94 min   \n",
       "4             2017  TV-14   99 min   \n",
       "6             2014      R  110 min   \n",
       "7             2017  TV-MA   60 min   \n",
       "...            ...    ...      ...   \n",
       "5577          2007  TV-MA   70 min   \n",
       "5578          2015      R  102 min   \n",
       "5579          2014     NR   88 min   \n",
       "5580          2015  PG-13  109 min   \n",
       "6231          2016    NaN   60 min   \n",
       "\n",
       "                                              listed_in  \\\n",
       "0                    Children & Family Movies, Comedies   \n",
       "1                                       Stand-Up Comedy   \n",
       "4                                              Comedies   \n",
       "6     International Movies, Sci-Fi & Fantasy, Thrillers   \n",
       "7                                       Stand-Up Comedy   \n",
       "...                                                 ...   \n",
       "5577                                      Documentaries   \n",
       "5578               Comedies, Dramas, Independent Movies   \n",
       "5579                       Documentaries, Sports Movies   \n",
       "5580                                      Documentaries   \n",
       "6231                                             Movies   \n",
       "\n",
       "                                            description  \\\n",
       "0     Before planning an awesome wedding for his gra...   \n",
       "1     Jandino Asporaat riffs on the challenges of ra...   \n",
       "4     When nerdy high schooler Dani finally attracts...   \n",
       "6     In a dystopian future, an insurance adjuster f...   \n",
       "7     Fabrizio Copano takes audience participation t...   \n",
       "...                                                 ...   \n",
       "5577  Frank was a rising pop star when he married Ci...   \n",
       "5578  A student filmmaker vengefully turns his camer...   \n",
       "5579  This unfiltered documentary follows the rocky ...   \n",
       "5580  The journey of fashion designer Jeremy Scott f...   \n",
       "6231  Nursery rhymes and original music for children...   \n",
       "\n",
       "                                                 actors  \n",
       "0     [Alan Marriott,  Andrew Toth,  Brian Dobson,  ...  \n",
       "1                                    [Jandino Asporaat]  \n",
       "4     [Nesta Cooper,  Kate Walsh,  John Michael Higg...  \n",
       "6     [Antonio Banderas,  Dylan McDermott,  Melanie ...  \n",
       "7                                     [Fabrizio Copano]  \n",
       "...                                                 ...  \n",
       "5577                                                NaN  \n",
       "5578  [Rene Russo,  Oliver Platt,  Johnny Simmons,  ...  \n",
       "5579                                    [Allen Iverson]  \n",
       "5580                                     [Jeremy Scott]  \n",
       "6231                                                NaN  \n",
       "\n",
       "[4265 rows x 13 columns]"
      ]
     },
     "execution_count": 263,
     "metadata": {},
     "output_type": "execute_result"
    }
   ],
   "source": [
    "movie_count= df[df['type']=='Movie']\n",
    "movie_count"
   ]
  },
  {
   "cell_type": "code",
   "execution_count": 51,
   "id": "8a85f984",
   "metadata": {},
   "outputs": [],
   "source": [
    "tv_count= df[df['type']=='TV Show']"
   ]
  },
  {
   "cell_type": "code",
   "execution_count": 267,
   "id": "17e49652",
   "metadata": {},
   "outputs": [],
   "source": [
    "a=movie_count['release_year'].value_counts().nlargest(n=10)\n",
    "b= tv_count['release_year'].value_counts().nlargest(n=10)"
   ]
  },
  {
   "cell_type": "code",
   "execution_count": 271,
   "id": "85423cbe",
   "metadata": {},
   "outputs": [
    {
     "ename": "TypeError",
     "evalue": "'str' object is not callable",
     "output_type": "error",
     "traceback": [
      "\u001b[1;31m---------------------------------------------------------------------------\u001b[0m",
      "\u001b[1;31mTypeError\u001b[0m                                 Traceback (most recent call last)",
      "\u001b[1;32m<ipython-input-271-0da891192428>\u001b[0m in \u001b[0;36m<module>\u001b[1;34m\u001b[0m\n\u001b[0;32m      1\u001b[0m \u001b[0mplt\u001b[0m\u001b[1;33m.\u001b[0m\u001b[0mplot\u001b[0m\u001b[1;33m(\u001b[0m\u001b[0ma\u001b[0m\u001b[1;33m,\u001b[0m \u001b[0ma\u001b[0m\u001b[1;33m.\u001b[0m\u001b[0mindex\u001b[0m\u001b[1;33m,\u001b[0m \u001b[0mb\u001b[0m\u001b[1;33m,\u001b[0m \u001b[0mb\u001b[0m\u001b[1;33m.\u001b[0m\u001b[0mindex\u001b[0m\u001b[1;33m)\u001b[0m\u001b[1;33m\u001b[0m\u001b[1;33m\u001b[0m\u001b[0m\n\u001b[1;32m----> 2\u001b[1;33m \u001b[0mplt\u001b[0m\u001b[1;33m.\u001b[0m\u001b[0mxlabel\u001b[0m\u001b[1;33m(\u001b[0m\u001b[1;34m'count'\u001b[0m\u001b[1;33m)\u001b[0m\u001b[1;33m\u001b[0m\u001b[1;33m\u001b[0m\u001b[0m\n\u001b[0m",
      "\u001b[1;31mTypeError\u001b[0m: 'str' object is not callable"
     ]
    },
    {
     "data": {
      "image/png": "[encoded data removed]",
      "text/plain": [
       "<Figure size 432x288 with 1 Axes>"
      ]
     },
     "metadata": {
      "needs_background": "light"
     },
     "output_type": "display_data"
    }
   ],
   "source": [
    "plt.plot(a, a.index, b, b.index)\n",
    "plt.xlabel('count')"
   ]
  },
  {
   "cell_type": "code",
   "execution_count": 274,
   "id": "ed68fb6b",
   "metadata": {},
   "outputs": [
    {
     "name": "stderr",
     "output_type": "stream",
     "text": [
      "C:\\Users\\ypanw\\anaconda3\\lib\\site-packages\\seaborn\\_decorators.py:36: FutureWarning: Pass the following variables as keyword args: x, y. From version 0.12, the only valid positional argument will be `data`, and passing other arguments without an explicit keyword will result in an error or misinterpretation.\n",
      "  warnings.warn(\n"
     ]
    },
    {
     "data": {
      "text/plain": [
       "<AxesSubplot:ylabel='release_year'>"
      ]
     },
     "execution_count": 274,
     "metadata": {},
     "output_type": "execute_result"
    },
    {
     "data": {
      "image/png": "[encoded data removed]",
      "text/plain": [
       "<Figure size 432x288 with 1 Axes>"
      ]
     },
     "metadata": {
      "needs_background": "light"
     },
     "output_type": "display_data"
    }
   ],
   "source": [
    "sns.barplot(a.index, a, color='red')\n"
   ]
  },
  {
   "cell_type": "code",
   "execution_count": 119,
   "id": "28e5eafd",
   "metadata": {},
   "outputs": [
    {
     "data": {
      "text/plain": [
       "<BarContainer object of 5 artists>"
      ]
     },
     "execution_count": 119,
     "metadata": {},
     "output_type": "execute_result"
    },
    {
     "data": {
      "image/png": "[encoded data removed]",
      "text/plain": [
       "<Figure size 720x504 with 1 Axes>"
      ]
     },
     "metadata": {
      "needs_background": "light"
     },
     "output_type": "display_data"
    }
   ],
   "source": [
    "#top movie actors:\n",
    "x=df['cast'].value_counts().head()\n",
    "plt.figure(figsize=(10,7))\n",
    "plt.bar( x.index, x)"
   ]
  },
  {
   "cell_type": "code",
   "execution_count": 151,
   "id": "c9d1d1a8",
   "metadata": {},
   "outputs": [],
   "source": [
    "#avg duration of movies:movie_count.info()"
   ]
  },
  {
   "cell_type": "code",
   "execution_count": 150,
   "id": "835e60ed",
   "metadata": {},
   "outputs": [
    {
     "data": {
      "text/plain": [
       "99.10082063305978"
      ]
     },
     "execution_count": 150,
     "metadata": {},
     "output_type": "execute_result"
    }
   ],
   "source": [
    "time=movie_count['duration'].apply(lambda x: x.split(' ')[0])\n",
    "time=time.astype(float)\n",
    "time.mean()"
   ]
  },
  {
   "cell_type": "code",
   "execution_count": 179,
   "id": "02e51ecd",
   "metadata": {},
   "outputs": [
    {
     "name": "stderr",
     "output_type": "stream",
     "text": [
      "C:\\Users\\ypanw\\anaconda3\\lib\\site-packages\\seaborn\\_decorators.py:36: FutureWarning: Pass the following variable as a keyword arg: x. From version 0.12, the only valid positional argument will be `data`, and passing other arguments without an explicit keyword will result in an error or misinterpretation.\n",
      "  warnings.warn(\n"
     ]
    },
    {
     "data": {
      "text/plain": [
       "<AxesSubplot:xlabel='rating', ylabel='count'>"
      ]
     },
     "execution_count": 179,
     "metadata": {},
     "output_type": "execute_result"
    },
    {
     "data": {
      "image/png": "[encoded data removed]",
      "text/plain": [
       "<Figure size 432x288 with 1 Axes>"
      ]
     },
     "metadata": {
      "needs_background": "light"
     },
     "output_type": "display_data"
    }
   ],
   "source": [
    "#most watched movies acc to rating:\n",
    "sns.countplot(movie_count.rating, order=movie_count.rating.value_counts().index[:10])"
   ]
  },
  {
   "cell_type": "code",
   "execution_count": 1,
   "id": "6d298815",
   "metadata": {},
   "outputs": [
    {
     "ename": "NameError",
     "evalue": "name 'movie_count' is not defined",
     "output_type": "error",
     "traceback": [
      "\u001b[1;31m---------------------------------------------------------------------------\u001b[0m",
      "\u001b[1;31mNameError\u001b[0m                                 Traceback (most recent call last)",
      "\u001b[1;32m<ipython-input-1-bebd74e14253>\u001b[0m in \u001b[0;36m<module>\u001b[1;34m\u001b[0m\n\u001b[0;32m      1\u001b[0m \u001b[1;31m#countries where the max no of movies were watched\u001b[0m\u001b[1;33m\u001b[0m\u001b[1;33m\u001b[0m\u001b[1;33m\u001b[0m\u001b[0m\n\u001b[1;32m----> 2\u001b[1;33m \u001b[0ma\u001b[0m\u001b[1;33m=\u001b[0m\u001b[0mmovie_count\u001b[0m\u001b[1;33m[\u001b[0m\u001b[1;34m'country'\u001b[0m\u001b[1;33m]\u001b[0m\u001b[1;33m.\u001b[0m\u001b[0mstr\u001b[0m\u001b[1;33m.\u001b[0m\u001b[0mrsplit\u001b[0m\u001b[1;33m(\u001b[0m\u001b[1;34m','\u001b[0m\u001b[1;33m)\u001b[0m\u001b[1;33m\u001b[0m\u001b[1;33m\u001b[0m\u001b[0m\n\u001b[0m\u001b[0;32m      3\u001b[0m \u001b[0ma\u001b[0m\u001b[1;33m.\u001b[0m\u001b[0mvalue_counts\u001b[0m\u001b[1;33m(\u001b[0m\u001b[1;33m)\u001b[0m\u001b[1;33m\u001b[0m\u001b[1;33m\u001b[0m\u001b[0m\n",
      "\u001b[1;31mNameError\u001b[0m: name 'movie_count' is not defined"
     ]
    }
   ],
   "source": [
    "#countries where the max no of movies were watched\n",
    "a=movie_count['country'].str.rsplit(',')\n",
    "a.value_counts()"
   ]
  },
  {
   "cell_type": "code",
   "execution_count": null,
   "id": "024a1c2e",
   "metadata": {},
   "outputs": [],
   "source": []
  }
 ],
 "metadata": {
  "kernelspec": {
   "display_name": "Python 3",
   "language": "python",
   "name": "python3"
  },
  "language_info": {
   "codemirror_mode": {
    "name": "ipython",
    "version": 3
   },
   "file_extension": ".py",
   "mimetype": "text/x-python",
   "name": "python",
   "nbconvert_exporter": "python",
   "pygments_lexer": "ipython3",
   "version": "3.8.8"
  }
 },
 "nbformat": 4,
 "nbformat_minor": 5
}
