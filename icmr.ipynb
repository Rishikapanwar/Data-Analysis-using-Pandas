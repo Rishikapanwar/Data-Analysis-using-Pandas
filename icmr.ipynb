{
 "cells": [
  {
   "cell_type": "markdown",
   "id": "3a16f51a",
   "metadata": {},
   "source": [
    "# ICMR EDA: Rishika"
   ]
  },
  {
   "cell_type": "code",
   "execution_count": 214,
   "id": "68055782",
   "metadata": {},
   "outputs": [
    {
     "ename": "ModuleNotFoundError",
     "evalue": "No module named 'geopandas'",
     "output_type": "error",
     "traceback": [
      "\u001b[1;31m---------------------------------------------------------------------------\u001b[0m",
      "\u001b[1;31mModuleNotFoundError\u001b[0m                       Traceback (most recent call last)",
      "\u001b[1;32m<ipython-input-214-eb6723cd0177>\u001b[0m in \u001b[0;36m<module>\u001b[1;34m\u001b[0m\n\u001b[0;32m      2\u001b[0m \u001b[1;32mimport\u001b[0m \u001b[0mnumpy\u001b[0m \u001b[1;32mas\u001b[0m \u001b[0mnp\u001b[0m\u001b[1;33m\u001b[0m\u001b[1;33m\u001b[0m\u001b[0m\n\u001b[0;32m      3\u001b[0m \u001b[1;32mimport\u001b[0m \u001b[0mseaborn\u001b[0m \u001b[1;32mas\u001b[0m \u001b[0msns\u001b[0m\u001b[1;33m\u001b[0m\u001b[1;33m\u001b[0m\u001b[0m\n\u001b[1;32m----> 4\u001b[1;33m \u001b[1;32mimport\u001b[0m \u001b[0mgeopandas\u001b[0m\u001b[1;33m\u001b[0m\u001b[1;33m\u001b[0m\u001b[0m\n\u001b[0m\u001b[0;32m      5\u001b[0m \u001b[1;33m\u001b[0m\u001b[0m\n\u001b[0;32m      6\u001b[0m \u001b[1;32mfrom\u001b[0m \u001b[0mmatplotlib\u001b[0m \u001b[1;32mimport\u001b[0m \u001b[0mpyplot\u001b[0m \u001b[1;32mas\u001b[0m \u001b[0mplt\u001b[0m\u001b[1;33m\u001b[0m\u001b[1;33m\u001b[0m\u001b[0m\n",
      "\u001b[1;31mModuleNotFoundError\u001b[0m: No module named 'geopandas'"
     ]
    }
   ],
   "source": [
    "import pandas as pd\n",
    "import numpy as np\n",
    "import seaborn as sns\n",
    "\n",
    "from matplotlib import pyplot as plt"
   ]
  },
  {
   "cell_type": "code",
   "execution_count": 5,
   "id": "4ef644a2",
   "metadata": {},
   "outputs": [],
   "source": [
    "df=pd.read_csv('ICMR.csv')"
   ]
  },
  {
   "cell_type": "code",
   "execution_count": 7,
   "id": "e26da34b",
   "metadata": {},
   "outputs": [
    {
     "name": "stdout",
     "output_type": "stream",
     "text": [
      "<class 'pandas.core.frame.DataFrame'>\n",
      "RangeIndex: 267 entries, 0 to 266\n",
      "Data columns (total 6 columns):\n",
      " #   Column   Non-Null Count  Dtype \n",
      "---  ------   --------------  ----- \n",
      " 0   lab      267 non-null    object\n",
      " 1   address  267 non-null    object\n",
      " 2   pincode  267 non-null    int64 \n",
      " 3   city     267 non-null    object\n",
      " 4   state    267 non-null    object\n",
      " 5   type     267 non-null    object\n",
      "dtypes: int64(1), object(5)\n",
      "memory usage: 12.6+ KB\n"
     ]
    }
   ],
   "source": [
    "df.info()"
   ]
  },
  {
   "cell_type": "code",
   "execution_count": 8,
   "id": "c0cfd2fc",
   "metadata": {},
   "outputs": [
    {
     "data": {
      "text/html": [
       "<div>\n",
       "<style scoped>\n",
       "    .dataframe tbody tr th:only-of-type {\n",
       "        vertical-align: middle;\n",
       "    }\n",
       "\n",
       "    .dataframe tbody tr th {\n",
       "        vertical-align: top;\n",
       "    }\n",
       "\n",
       "    .dataframe thead th {\n",
       "        text-align: right;\n",
       "    }\n",
       "</style>\n",
       "<table border=\"1\" class=\"dataframe\">\n",
       "  <thead>\n",
       "    <tr style=\"text-align: right;\">\n",
       "      <th></th>\n",
       "      <th>lab</th>\n",
       "      <th>address</th>\n",
       "      <th>pincode</th>\n",
       "      <th>city</th>\n",
       "      <th>state</th>\n",
       "      <th>type</th>\n",
       "    </tr>\n",
       "  </thead>\n",
       "  <tbody>\n",
       "    <tr>\n",
       "      <th>0</th>\n",
       "      <td>ICMR-Regional Medical Research Centre, Port Blair</td>\n",
       "      <td>ICMR-Regional Medical Research Centre, Post Ba...</td>\n",
       "      <td>744103</td>\n",
       "      <td>Port Blair</td>\n",
       "      <td>Andaman and Nicobar Islands</td>\n",
       "      <td>Government Laboratory</td>\n",
       "    </tr>\n",
       "    <tr>\n",
       "      <th>1</th>\n",
       "      <td>Tomo Riba Institute of Health &amp; Medical Scienc...</td>\n",
       "      <td>National Highway 52A, Old Assembly Complex, Na...</td>\n",
       "      <td>791110</td>\n",
       "      <td>Naharlagun</td>\n",
       "      <td>Arunachal Pradesh</td>\n",
       "      <td>Collection Site</td>\n",
       "    </tr>\n",
       "    <tr>\n",
       "      <th>2</th>\n",
       "      <td>Sri Venkateswara Institute of Medical Sciences...</td>\n",
       "      <td>Sri Venkateswara Institute of Medical Sciences...</td>\n",
       "      <td>517507</td>\n",
       "      <td>Tirupati</td>\n",
       "      <td>Andhra Pradesh</td>\n",
       "      <td>Government Laboratory</td>\n",
       "    </tr>\n",
       "    <tr>\n",
       "      <th>3</th>\n",
       "      <td>Rangaraya Medical College, Kakinada</td>\n",
       "      <td>Rangaraya Medical College, Kakinada Pithampura...</td>\n",
       "      <td>533001</td>\n",
       "      <td>Kakinada</td>\n",
       "      <td>Andhra Pradesh</td>\n",
       "      <td>Government Laboratory</td>\n",
       "    </tr>\n",
       "    <tr>\n",
       "      <th>4</th>\n",
       "      <td>Sidhartha Medical College, Vijaywada</td>\n",
       "      <td>Siddhartha Medical College, Vijayawada NH 16 S...</td>\n",
       "      <td>520008</td>\n",
       "      <td>Vijayawada</td>\n",
       "      <td>Andhra Pradesh</td>\n",
       "      <td>Government Laboratory</td>\n",
       "    </tr>\n",
       "  </tbody>\n",
       "</table>\n",
       "</div>"
      ],
      "text/plain": [
       "                                                 lab  \\\n",
       "0  ICMR-Regional Medical Research Centre, Port Blair   \n",
       "1  Tomo Riba Institute of Health & Medical Scienc...   \n",
       "2  Sri Venkateswara Institute of Medical Sciences...   \n",
       "3                Rangaraya Medical College, Kakinada   \n",
       "4               Sidhartha Medical College, Vijaywada   \n",
       "\n",
       "                                             address  pincode        city  \\\n",
       "0  ICMR-Regional Medical Research Centre, Post Ba...   744103  Port Blair   \n",
       "1  National Highway 52A, Old Assembly Complex, Na...   791110  Naharlagun   \n",
       "2  Sri Venkateswara Institute of Medical Sciences...   517507    Tirupati   \n",
       "3  Rangaraya Medical College, Kakinada Pithampura...   533001    Kakinada   \n",
       "4  Siddhartha Medical College, Vijayawada NH 16 S...   520008  Vijayawada   \n",
       "\n",
       "                         state                   type  \n",
       "0  Andaman and Nicobar Islands  Government Laboratory  \n",
       "1            Arunachal Pradesh        Collection Site  \n",
       "2               Andhra Pradesh  Government Laboratory  \n",
       "3               Andhra Pradesh  Government Laboratory  \n",
       "4               Andhra Pradesh  Government Laboratory  "
      ]
     },
     "execution_count": 8,
     "metadata": {},
     "output_type": "execute_result"
    }
   ],
   "source": [
    "df.head()"
   ]
  },
  {
   "cell_type": "code",
   "execution_count": 10,
   "id": "6e3cb0c3",
   "metadata": {},
   "outputs": [
    {
     "name": "stdout",
     "output_type": "stream",
     "text": [
      "lab        False\n",
      "address    False\n",
      "pincode    False\n",
      "city       False\n",
      "state      False\n",
      "type       False\n",
      "dtype: bool\n"
     ]
    }
   ],
   "source": [
    "print(df.isnull().any())"
   ]
  },
  {
   "cell_type": "code",
   "execution_count": 11,
   "id": "6cb7de8b",
   "metadata": {},
   "outputs": [],
   "source": [
    "#no null values in the dataset"
   ]
  },
  {
   "cell_type": "code",
   "execution_count": 25,
   "id": "fb38e0ec",
   "metadata": {},
   "outputs": [
    {
     "data": {
      "text/plain": [
       "34"
      ]
     },
     "execution_count": 25,
     "metadata": {},
     "output_type": "execute_result"
    }
   ],
   "source": [
    "#no of various states:\n",
    "df['state'].nunique()"
   ]
  },
  {
   "cell_type": "code",
   "execution_count": 119,
   "id": "b6a7a849",
   "metadata": {},
   "outputs": [
    {
     "data": {
      "text/plain": [
       "Government Laboratory    182\n",
       "Private Laboratory        82\n",
       "Collection Site            3\n",
       "Name: type, dtype: int64"
      ]
     },
     "execution_count": 119,
     "metadata": {},
     "output_type": "execute_result"
    }
   ],
   "source": [
    "#No. of various types of labs:\n",
    "df['type'].value_counts()"
   ]
  },
  {
   "cell_type": "code",
   "execution_count": 223,
   "id": "ba8b281a",
   "metadata": {},
   "outputs": [
    {
     "name": "stderr",
     "output_type": "stream",
     "text": [
      "C:\\Users\\ypanw\\anaconda3\\lib\\site-packages\\seaborn\\_decorators.py:36: FutureWarning: Pass the following variable as a keyword arg: x. From version 0.12, the only valid positional argument will be `data`, and passing other arguments without an explicit keyword will result in an error or misinterpretation.\n",
      "  warnings.warn(\n"
     ]
    },
    {
     "data": {
      "text/plain": [
       "<AxesSubplot:xlabel='type', ylabel='count'>"
      ]
     },
     "execution_count": 223,
     "metadata": {},
     "output_type": "execute_result"
    },
    {
     "data": {
      "image/png": "[encoded data removed]",
      "text/plain": [
       "<Figure size 504x360 with 1 Axes>"
      ]
     },
     "metadata": {
      "needs_background": "light"
     },
     "output_type": "display_data"
    }
   ],
   "source": [
    " ax = plt.subplots(figsize = (7,5))\n",
    "sns.countplot(df['type'], order=df['type'].value_counts().index, color='green')"
   ]
  },
  {
   "cell_type": "code",
   "execution_count": 76,
   "id": "eea375cc",
   "metadata": {},
   "outputs": [
    {
     "data": {
      "text/plain": [
       "state          type                 \n",
       "Maharashtra    Government Laboratory    20\n",
       "               Private Laboratory       19\n",
       "Tamil Nadu     Government Laboratory    16\n",
       "Uttar Pradesh  Government Laboratory    15\n",
       "Karnataka      Government Laboratory    12\n",
       "Name: type, dtype: int64"
      ]
     },
     "execution_count": 76,
     "metadata": {},
     "output_type": "execute_result"
    }
   ],
   "source": [
    "#the state with the max no of labs:\n",
    "a=df.groupby('state')['type'].value_counts().nlargest(n=5)\n",
    "a"
   ]
  },
  {
   "cell_type": "code",
   "execution_count": 85,
   "id": "a167d6f6",
   "metadata": {},
   "outputs": [
    {
     "data": {
      "text/plain": [
       "Text(0.5, 1.0, 'States with max no of labs')"
      ]
     },
     "execution_count": 85,
     "metadata": {},
     "output_type": "execute_result"
    },
    {
     "data": {
      "image/png": "[encoded data removed]",
      "text/plain": [
       "<Figure size 432x288 with 1 Axes>"
      ]
     },
     "metadata": {},
     "output_type": "display_data"
    }
   ],
   "source": [
    "plt.pie(a, labels=a.index, explode=[0.05,0.05,0,0,0])\n",
    "plt.title('States with max no of labs')"
   ]
  },
  {
   "cell_type": "code",
   "execution_count": 156,
   "id": "b84aec93",
   "metadata": {},
   "outputs": [],
   "source": [
    "#creating a dataset for government labs\n",
    "labs=df[df['type']=='Government Laboratory']"
   ]
  },
  {
   "cell_type": "code",
   "execution_count": 193,
   "id": "d73cbb03",
   "metadata": {},
   "outputs": [
    {
     "data": {
      "text/plain": [
       "Text(0.5, 1.0, 'state wise')"
      ]
     },
     "execution_count": 193,
     "metadata": {},
     "output_type": "execute_result"
    },
    {
     "data": {
      "image/png": "[encoded data removed]",
      "text/plain": [
       "<Figure size 1080x360 with 1 Axes>"
      ]
     },
     "metadata": {
      "needs_background": "light"
     },
     "output_type": "display_data"
    }
   ],
   "source": [
    "#Distribution of labs acc to states (top 10)\n",
    "\n",
    "x=labs.state.value_counts().head(10)\n",
    "ax=plt.figure(figsize=(15,5))\n",
    "plt.plot(x.index, x, marker='*')\n",
    "plt.title('state wise')\n"
   ]
  },
  {
   "cell_type": "code",
   "execution_count": 245,
   "id": "47159e45",
   "metadata": {},
   "outputs": [
    {
     "data": {
      "text/plain": [
       "1      Arunachal Pradesh\n",
       "111               Ladakh\n",
       "187               Sikkim\n",
       "Name: state, dtype: object"
      ]
     },
     "execution_count": 245,
     "metadata": {},
     "output_type": "execute_result"
    }
   ],
   "source": [
    "#Collection sites\n",
    "b=df[df['type']=='Collection Site']['state']\n",
    "b"
   ]
  },
  {
   "cell_type": "code",
   "execution_count": 197,
   "id": "88c735c3",
   "metadata": {},
   "outputs": [
    {
     "data": {
      "text/plain": [
       "[<matplotlib.lines.Line2D at 0x1c32d9742e0>]"
      ]
     },
     "execution_count": 197,
     "metadata": {},
     "output_type": "execute_result"
    },
    {
     "data": {
      "image/png": "[encoded data removed]",
      "text/plain": [
       "<Figure size 432x288 with 1 Axes>"
      ]
     },
     "metadata": {
      "needs_background": "light"
     },
     "output_type": "display_data"
    }
   ],
   "source": [
    "plt.plot(b, b.index, color='Blue')"
   ]
  },
  {
   "cell_type": "code",
   "execution_count": 244,
   "id": "c23e8206",
   "metadata": {},
   "outputs": [
    {
     "name": "stderr",
     "output_type": "stream",
     "text": [
      "C:\\Users\\ypanw\\anaconda3\\lib\\site-packages\\seaborn\\_decorators.py:36: FutureWarning: Pass the following variables as keyword args: x, y. From version 0.12, the only valid positional argument will be `data`, and passing other arguments without an explicit keyword will result in an error or misinterpretation.\n",
      "  warnings.warn(\n"
     ]
    },
    {
     "data": {
      "text/plain": [
       "<AxesSubplot:ylabel='state'>"
      ]
     },
     "execution_count": 244,
     "metadata": {},
     "output_type": "execute_result"
    },
    {
     "data": {
      "image/png": "[encoded data removed]",
      "text/plain": [
       "<Figure size 1080x144 with 1 Axes>"
      ]
     },
     "metadata": {
      "needs_background": "light"
     },
     "output_type": "display_data"
    }
   ],
   "source": [
    "plt.figure(figsize=(15,2))\n",
    "sns.barplot(b.index,b, color='black')"
   ]
  },
  {
   "cell_type": "code",
   "execution_count": 177,
   "id": "24e54459",
   "metadata": {},
   "outputs": [
    {
     "name": "stderr",
     "output_type": "stream",
     "text": [
      "C:\\Users\\ypanw\\anaconda3\\lib\\site-packages\\seaborn\\_decorators.py:36: FutureWarning: Pass the following variable as a keyword arg: x. From version 0.12, the only valid positional argument will be `data`, and passing other arguments without an explicit keyword will result in an error or misinterpretation.\n",
      "  warnings.warn(\n"
     ]
    },
    {
     "data": {
      "text/plain": [
       "<AxesSubplot:xlabel='state', ylabel='count'>"
      ]
     },
     "execution_count": 177,
     "metadata": {},
     "output_type": "execute_result"
    },
    {
     "data": {
      "image/png": "[encoded data removed]",
      "text/plain": [
       "<Figure size 1008x504 with 1 Axes>"
      ]
     },
     "metadata": {
      "needs_background": "light"
     },
     "output_type": "display_data"
    }
   ],
   "source": [
    "#Private labs\n",
    "c=df[df['type']=='Private Laboratory']['state']\n",
    "ax=plt.figure(figsize=(14,7))\n",
    "sns.countplot(c)"
   ]
  },
  {
   "cell_type": "code",
   "execution_count": 269,
   "id": "0f7d59a4",
   "metadata": {},
   "outputs": [
    {
     "data": {
      "text/plain": [
       "state                                     type                 \n",
       "Andaman and Nicobar Islands               Government Laboratory    1\n",
       "Arunachal Pradesh                         Collection Site          1\n",
       "Dadra and Nagar Haveli and Daman and Diu  Government Laboratory    1\n",
       "Goa                                       Government Laboratory    1\n",
       "Ladakh                                    Collection Site          1\n",
       "Madhya Pradesh                            Private Laboratory       1\n",
       "Meghalaya                                 Government Laboratory    1\n",
       "Mizoram                                   Government Laboratory    1\n",
       "Odisha                                    Private Laboratory       1\n",
       "Puducherry                                Government Laboratory    1\n",
       "Rajasthan                                 Private Laboratory       1\n",
       "Sikkim                                    Collection Site          1\n",
       "Tripura                                   Government Laboratory    1\n",
       "Uttarakhand                               Private Laboratory       1\n",
       "Kerala                                    Private Laboratory       2\n",
       "Name: type, dtype: int64"
      ]
     },
     "execution_count": 269,
     "metadata": {},
     "output_type": "execute_result"
    }
   ],
   "source": [
    "#states with least no of labs where govt can introduce new labs:\n",
    "df.groupby('state')['type'].value_counts().nsmallest(n=15)"
   ]
  },
  {
   "cell_type": "code",
   "execution_count": 215,
   "id": "a7155fcb",
   "metadata": {},
   "outputs": [
    {
     "data": {
      "text/plain": [
       "False"
      ]
     },
     "execution_count": 215,
     "metadata": {},
     "output_type": "execute_result"
    }
   ],
   "source": [
    "import sys\n",
    "'geopandas' in sys.modules"
   ]
  },
  {
   "cell_type": "code",
   "execution_count": 216,
   "id": "a4162ec5",
   "metadata": {},
   "outputs": [
    {
     "name": "stdout",
     "output_type": "stream",
     "text": [
      "Collecting geopandasNote: you may need to restart the kernel to use updated packages.\n"
     ]
    },
    {
     "name": "stderr",
     "output_type": "stream",
     "text": [
      "    ERROR: Command errored out with exit status 1:\n",
      "     command: 'C:\\Users\\ypanw\\anaconda3\\python.exe' -c 'import sys, setuptools, tokenize; sys.argv[0] = '\"'\"'C:\\\\Users\\\\ypanw\\\\AppData\\\\Local\\\\Temp\\\\pip-install-dmfuslau\\\\fiona_6247f640c0be4e8a88c04e435a6e9d72\\\\setup.py'\"'\"'; __file__='\"'\"'C:\\\\Users\\\\ypanw\\\\AppData\\\\Local\\\\Temp\\\\pip-install-dmfuslau\\\\fiona_6247f640c0be4e8a88c04e435a6e9d72\\\\setup.py'\"'\"';f=getattr(tokenize, '\"'\"'open'\"'\"', open)(__file__);code=f.read().replace('\"'\"'\\r\\n'\"'\"', '\"'\"'\\n'\"'\"');f.close();exec(compile(code, __file__, '\"'\"'exec'\"'\"'))' egg_info --egg-base 'C:\\Users\\ypanw\\AppData\\Local\\Temp\\pip-pip-egg-info-gusuefle'\n",
      "         cwd: C:\\Users\\ypanw\\AppData\\Local\\Temp\\pip-install-dmfuslau\\fiona_6247f640c0be4e8a88c04e435a6e9d72\\\n",
      "    Complete output (1 lines):\n",
      "    A GDAL API version must be specified. Provide a path to gdal-config using a GDAL_CONFIG environment variable or use a GDAL_VERSION environment variable.\n",
      "    ----------------------------------------\n",
      "WARNING: Discarding https://files.pythonhosted.org/packages/ec/f7/093890341a7e8fbfcdfa04caf4dfb588ebab32c13ceaa6a3819da79ea106/Fiona-1.8.20.tar.gz#sha256=a70502d2857b82f749c09cb0dea3726787747933a2a1599b5ab787d74e3c143b (from https://pypi.org/simple/fiona/). Command errored out with exit status 1: python setup.py egg_info Check the logs for full command output.\n",
      "    ERROR: Command errored out with exit status 1:\n",
      "     command: 'C:\\Users\\ypanw\\anaconda3\\python.exe' -c 'import sys, setuptools, tokenize; sys.argv[0] = '\"'\"'C:\\\\Users\\\\ypanw\\\\AppData\\\\Local\\\\Temp\\\\pip-install-dmfuslau\\\\fiona_d6122bdc26e94c36b49410634d1e86ca\\\\setup.py'\"'\"'; __file__='\"'\"'C:\\\\Users\\\\ypanw\\\\AppData\\\\Local\\\\Temp\\\\pip-install-dmfuslau\\\\fiona_d6122bdc26e94c36b49410634d1e86ca\\\\setup.py'\"'\"';f=getattr(tokenize, '\"'\"'open'\"'\"', open)(__file__);code=f.read().replace('\"'\"'\\r\\n'\"'\"', '\"'\"'\\n'\"'\"');f.close();exec(compile(code, __file__, '\"'\"'exec'\"'\"'))' egg_info --egg-base 'C:\\Users\\ypanw\\AppData\\Local\\Temp\\pip-pip-egg-info-_yar9xrw'\n",
      "         cwd: C:\\Users\\ypanw\\AppData\\Local\\Temp\\pip-install-dmfuslau\\fiona_d6122bdc26e94c36b49410634d1e86ca\\\n",
      "    Complete output (1 lines):\n",
      "    A GDAL API version must be specified. Provide a path to gdal-config using a GDAL_CONFIG environment variable or use a GDAL_VERSION environment variable.\n",
      "    ----------------------------------------\n",
      "WARNING: Discarding https://files.pythonhosted.org/packages/a0/d9/6042aeb073d11341f7726de0586ff71c13117c34959dcf07bd4ee6d4b93e/Fiona-1.8.19.tar.gz#sha256=b9059e0b29c2e9e6b817e53f941e77e1aca7075f986005d38db307067b60458f (from https://pypi.org/simple/fiona/). Command errored out with exit status 1: python setup.py egg_info Check the logs for full command output.\n",
      "    ERROR: Command errored out with exit status 1:\n",
      "     command: 'C:\\Users\\ypanw\\anaconda3\\python.exe' -c 'import sys, setuptools, tokenize; sys.argv[0] = '\"'\"'C:\\\\Users\\\\ypanw\\\\AppData\\\\Local\\\\Temp\\\\pip-install-dmfuslau\\\\fiona_93c246f12e144f0ea6032ff39aa29b5c\\\\setup.py'\"'\"'; __file__='\"'\"'C:\\\\Users\\\\ypanw\\\\AppData\\\\Local\\\\Temp\\\\pip-install-dmfuslau\\\\fiona_93c246f12e144f0ea6032ff39aa29b5c\\\\setup.py'\"'\"';f=getattr(tokenize, '\"'\"'open'\"'\"', open)(__file__);code=f.read().replace('\"'\"'\\r\\n'\"'\"', '\"'\"'\\n'\"'\"');f.close();exec(compile(code, __file__, '\"'\"'exec'\"'\"'))' egg_info --egg-base 'C:\\Users\\ypanw\\AppData\\Local\\Temp\\pip-pip-egg-info-6gxqopmp'\n",
      "         cwd: C:\\Users\\ypanw\\AppData\\Local\\Temp\\pip-install-dmfuslau\\fiona_93c246f12e144f0ea6032ff39aa29b5c\\\n",
      "    Complete output (1 lines):\n",
      "    A GDAL API version must be specified. Provide a path to gdal-config using a GDAL_CONFIG environment variable or use a GDAL_VERSION environment variable.\n",
      "    ----------------------------------------\n",
      "WARNING: Discarding https://files.pythonhosted.org/packages/9f/e8/401cdaa58d862a25c4b3365acf7d2bd7ac77191e3dc9acdcdac0eff20ff0/Fiona-1.8.18.tar.gz#sha256=b732ece0ff8886a29c439723a3e1fc382718804bb057519d537a81308854967a (from https://pypi.org/simple/fiona/). Command errored out with exit status 1: python setup.py egg_info Check the logs for full command output.\n",
      "    ERROR: Command errored out with exit status 1:\n",
      "     command: 'C:\\Users\\ypanw\\anaconda3\\python.exe' -c 'import sys, setuptools, tokenize; sys.argv[0] = '\"'\"'C:\\\\Users\\\\ypanw\\\\AppData\\\\Local\\\\Temp\\\\pip-install-dmfuslau\\\\fiona_6ab660a5376c48ad967399bcd7cd70d6\\\\setup.py'\"'\"'; __file__='\"'\"'C:\\\\Users\\\\ypanw\\\\AppData\\\\Local\\\\Temp\\\\pip-install-dmfuslau\\\\fiona_6ab660a5376c48ad967399bcd7cd70d6\\\\setup.py'\"'\"';f=getattr(tokenize, '\"'\"'open'\"'\"', open)(__file__);code=f.read().replace('\"'\"'\\r\\n'\"'\"', '\"'\"'\\n'\"'\"');f.close();exec(compile(code, __file__, '\"'\"'exec'\"'\"'))' egg_info --egg-base 'C:\\Users\\ypanw\\AppData\\Local\\Temp\\pip-pip-egg-info-p1jcopi3'\n",
      "         cwd: C:\\Users\\ypanw\\AppData\\Local\\Temp\\pip-install-dmfuslau\\fiona_6ab660a5376c48ad967399bcd7cd70d6\\\n",
      "    Complete output (1 lines):\n",
      "    A GDAL API version must be specified. Provide a path to gdal-config using a GDAL_CONFIG environment variable or use a GDAL_VERSION environment variable.\n",
      "    ----------------------------------------\n",
      "WARNING: Discarding https://files.pythonhosted.org/packages/88/62/69347ba2c41b526e1953c4cb66d51170b2869808863c03af202ba0121670/Fiona-1.8.17.tar.gz#sha256=716201c21246587f374785bec6d6a20a984fe1f6c2b0e83bf15127eb8f724d0c (from https://pypi.org/simple/fiona/). Command errored out with exit status 1: python setup.py egg_info Check the logs for full command output.\n",
      "    ERROR: Command errored out with exit status 1:\n",
      "     command: 'C:\\Users\\ypanw\\anaconda3\\python.exe' -c 'import sys, setuptools, tokenize; sys.argv[0] = '\"'\"'C:\\\\Users\\\\ypanw\\\\AppData\\\\Local\\\\Temp\\\\pip-install-dmfuslau\\\\fiona_bdc6a48ee2ab4005b30d7b6a53bb6f5f\\\\setup.py'\"'\"'; __file__='\"'\"'C:\\\\Users\\\\ypanw\\\\AppData\\\\Local\\\\Temp\\\\pip-install-dmfuslau\\\\fiona_bdc6a48ee2ab4005b30d7b6a53bb6f5f\\\\setup.py'\"'\"';f=getattr(tokenize, '\"'\"'open'\"'\"', open)(__file__);code=f.read().replace('\"'\"'\\r\\n'\"'\"', '\"'\"'\\n'\"'\"');f.close();exec(compile(code, __file__, '\"'\"'exec'\"'\"'))' egg_info --egg-base 'C:\\Users\\ypanw\\AppData\\Local\\Temp\\pip-pip-egg-info-spxdxtrj'\n",
      "         cwd: C:\\Users\\ypanw\\AppData\\Local\\Temp\\pip-install-dmfuslau\\fiona_bdc6a48ee2ab4005b30d7b6a53bb6f5f\\\n",
      "    Complete output (1 lines):\n",
      "    A GDAL API version must be specified. Provide a path to gdal-config using a GDAL_CONFIG environment variable or use a GDAL_VERSION environment variable.\n",
      "    ----------------------------------------\n",
      "WARNING: Discarding https://files.pythonhosted.org/packages/1e/60/dfc6115a11338d8aa96cacd8c60635223d9c97d61d556c90acc5dfd663fa/Fiona-1.8.16.tar.gz#sha256=fd6dfb65959becc916e9f6928618bfd59c16cdbc413ece0fbac61489cd11255f (from https://pypi.org/simple/fiona/). Command errored out with exit status 1: python setup.py egg_info Check the logs for full command output.\n",
      "    ERROR: Command errored out with exit status 1:\n",
      "     command: 'C:\\Users\\ypanw\\anaconda3\\python.exe' -c 'import sys, setuptools, tokenize; sys.argv[0] = '\"'\"'C:\\\\Users\\\\ypanw\\\\AppData\\\\Local\\\\Temp\\\\pip-install-dmfuslau\\\\fiona_723e0e46a10f4c36bef6354e6c15aa63\\\\setup.py'\"'\"'; __file__='\"'\"'C:\\\\Users\\\\ypanw\\\\AppData\\\\Local\\\\Temp\\\\pip-install-dmfuslau\\\\fiona_723e0e46a10f4c36bef6354e6c15aa63\\\\setup.py'\"'\"';f=getattr(tokenize, '\"'\"'open'\"'\"', open)(__file__);code=f.read().replace('\"'\"'\\r\\n'\"'\"', '\"'\"'\\n'\"'\"');f.close();exec(compile(code, __file__, '\"'\"'exec'\"'\"'))' egg_info --egg-base 'C:\\Users\\ypanw\\AppData\\Local\\Temp\\pip-pip-egg-info-j6kdfve5'\n",
      "         cwd: C:\\Users\\ypanw\\AppData\\Local\\Temp\\pip-install-dmfuslau\\fiona_723e0e46a10f4c36bef6354e6c15aa63\\\n",
      "    Complete output (1 lines):\n",
      "    A GDAL API version must be specified. Provide a path to gdal-config using a GDAL_CONFIG environment variable or use a GDAL_VERSION environment variable.\n",
      "    ----------------------------------------\n",
      "WARNING: Discarding https://files.pythonhosted.org/packages/55/2f/17450ec2c8fcc720a8a3e4d9a383499508475c7cfb90f7eca9fb585ac598/Fiona-1.8.15.tar.gz#sha256=3b1c9b5c834fae2fe947cfaea176db890bc6750d1a6ba9f54d969c19ffcd191e (from https://pypi.org/simple/fiona/). Command errored out with exit status 1: python setup.py egg_info Check the logs for full command output.\n",
      "    ERROR: Command errored out with exit status 1:\n",
      "     command: 'C:\\Users\\ypanw\\anaconda3\\python.exe' -c 'import sys, setuptools, tokenize; sys.argv[0] = '\"'\"'C:\\\\Users\\\\ypanw\\\\AppData\\\\Local\\\\Temp\\\\pip-install-dmfuslau\\\\fiona_529f28831bc34dd2a3c3e1a0404b741f\\\\setup.py'\"'\"'; __file__='\"'\"'C:\\\\Users\\\\ypanw\\\\AppData\\\\Local\\\\Temp\\\\pip-install-dmfuslau\\\\fiona_529f28831bc34dd2a3c3e1a0404b741f\\\\setup.py'\"'\"';f=getattr(tokenize, '\"'\"'open'\"'\"', open)(__file__);code=f.read().replace('\"'\"'\\r\\n'\"'\"', '\"'\"'\\n'\"'\"');f.close();exec(compile(code, __file__, '\"'\"'exec'\"'\"'))' egg_info --egg-base 'C:\\Users\\ypanw\\AppData\\Local\\Temp\\pip-pip-egg-info-w1kpq2mq'\n",
      "         cwd: C:\\Users\\ypanw\\AppData\\Local\\Temp\\pip-install-dmfuslau\\fiona_529f28831bc34dd2a3c3e1a0404b741f\\\n",
      "    Complete output (1 lines):\n",
      "    A GDAL API version must be specified. Provide a path to gdal-config using a GDAL_CONFIG environment variable or use a GDAL_VERSION environment variable.\n"
     ]
    },
    {
     "name": "stdout",
     "output_type": "stream",
     "text": [
      "\n",
      "  Using cached geopandas-0.10.2-py2.py3-none-any.whl (1.0 MB)\n",
      "Collecting fiona>=1.8\n",
      "  Using cached Fiona-1.8.20.tar.gz (1.3 MB)\n",
      "  Using cached Fiona-1.8.19.tar.gz (1.3 MB)\n",
      "  Using cached Fiona-1.8.18.tar.gz (1.3 MB)\n",
      "  Using cached Fiona-1.8.17.tar.gz (1.3 MB)\n",
      "  Using cached Fiona-1.8.16.tar.gz (1.3 MB)\n",
      "  Using cached Fiona-1.8.15.tar.gz (1.3 MB)\n",
      "  Using cached Fiona-1.8.14.tar.gz (1.3 MB)\n",
      "  Using cached Fiona-1.8.13.post1.tar.gz (1.2 MB)\n",
      "  Using cached Fiona-1.8.13.tar.gz (1.2 MB)\n",
      "  Using cached Fiona-1.8.12.tar.gz (1.2 MB)\n",
      "  Using cached Fiona-1.8.11.tar.gz (1.2 MB)\n",
      "  Using cached Fiona-1.8.10.tar.gz (1.2 MB)\n",
      "  Using cached Fiona-1.8.9.post2.tar.gz (1.2 MB)\n",
      "  Using cached Fiona-1.8.9.post1.tar.gz (1.2 MB)\n",
      "  Using cached Fiona-1.8.9.tar.gz (1.2 MB)\n",
      "  Using cached Fiona-1.8.8.tar.gz (1.7 MB)\n",
      "  Using cached Fiona-1.8.7.tar.gz (1.7 MB)\n",
      "  Using cached Fiona-1.8.6.tar.gz (1.7 MB)\n",
      "  Using cached Fiona-1.8.5.tar.gz (1.7 MB)\n",
      "  Using cached Fiona-1.8.4.tar.gz (1.1 MB)\n",
      "  Using cached Fiona-1.8.3.tar.gz (1.1 MB)\n",
      "  Using cached Fiona-1.8.2.tar.gz (1.2 MB)\n",
      "  Using cached Fiona-1.8.1.tar.gz (1.1 MB)\n",
      "  Using cached Fiona-1.8.0.tar.gz (1.4 MB)\n",
      "Collecting geopandas\n",
      "  Using cached geopandas-0.10.1-py2.py3-none-any.whl (1.0 MB)\n",
      "  Using cached geopandas-0.10.0-py2.py3-none-any.whl (1.0 MB)\n",
      "  Using cached geopandas-0.9.0-py2.py3-none-any.whl (994 kB)\n",
      "Requirement already satisfied: shapely>=1.6 in c:\\users\\ypanw\\anaconda3\\lib\\site-packages (from geopandas) (1.8.0)\n",
      "  Using cached geopandas-0.8.2-py2.py3-none-any.whl (962 kB)\n",
      "Requirement already satisfied: pandas>=0.23.0 in c:\\users\\ypanw\\anaconda3\\lib\\site-packages (from geopandas) (1.2.4)\n",
      "Requirement already satisfied: pyproj>=2.2.0 in c:\\users\\ypanw\\anaconda3\\lib\\site-packages (from geopandas) (3.2.1)\n",
      "Collecting fiona\n",
      "  Using cached Fiona-1.7.13.tar.gz (731 kB)\n",
      "Requirement already satisfied: python-dateutil>=2.7.3 in c:\\users\\ypanw\\anaconda3\\lib\\site-packages (from pandas>=0.23.0->geopandas) (2.8.1)\n",
      "Requirement already satisfied: pytz>=2017.3 in c:\\users\\ypanw\\anaconda3\\lib\\site-packages (from pandas>=0.23.0->geopandas) (2021.1)\n",
      "Requirement already satisfied: numpy>=1.16.5 in c:\\users\\ypanw\\anaconda3\\lib\\site-packages (from pandas>=0.23.0->geopandas) (1.20.1)\n",
      "Requirement already satisfied: certifi in c:\\users\\ypanw\\anaconda3\\lib\\site-packages (from pyproj>=2.2.0->geopandas) (2020.12.5)\n",
      "Requirement already satisfied: six>=1.5 in c:\\users\\ypanw\\anaconda3\\lib\\site-packages (from python-dateutil>=2.7.3->pandas>=0.23.0->geopandas) (1.15.0)\n",
      "Requirement already satisfied: cligj>=0.4 in c:\\users\\ypanw\\anaconda3\\lib\\site-packages (from fiona->geopandas) (0.7.2)\n",
      "Requirement already satisfied: click-plugins in c:\\users\\ypanw\\anaconda3\\lib\\site-packages (from fiona->geopandas) (1.1.1)\n",
      "Requirement already satisfied: munch in c:\\users\\ypanw\\anaconda3\\lib\\site-packages (from fiona->geopandas) (2.5.0)\n",
      "Requirement already satisfied: click>=4.0 in c:\\users\\ypanw\\anaconda3\\lib\\site-packages (from cligj>=0.4->fiona->geopandas) (7.1.2)\n",
      "Building wheels for collected packages: fiona\n",
      "  Building wheel for fiona (setup.py): started\n",
      "  Building wheel for fiona (setup.py): finished with status 'error'\n",
      "  Running setup.py clean for fiona\n",
      "Failed to build fiona\n",
      "Installing collected packages: fiona, geopandas\n",
      "    Running setup.py install for fiona: started\n",
      "    Running setup.py install for fiona: finished with status 'error'\n"
     ]
    },
    {
     "name": "stderr",
     "output_type": "stream",
     "text": [
      "    ----------------------------------------\n",
      "WARNING: Discarding https://files.pythonhosted.org/packages/5c/fd/5ec54f2d9b3d5dd23dd443fad5630d6b872e2664814c68b856c47e0d65af/Fiona-1.8.14.tar.gz#sha256=6eac038206c89d2cf5f99ea38b81cc228dc21eac5f47870a9a32d453b0007f4d (from https://pypi.org/simple/fiona/). Command errored out with exit status 1: python setup.py egg_info Check the logs for full command output.\n",
      "    ERROR: Command errored out with exit status 1:\n",
      "     command: 'C:\\Users\\ypanw\\anaconda3\\python.exe' -c 'import sys, setuptools, tokenize; sys.argv[0] = '\"'\"'C:\\\\Users\\\\ypanw\\\\AppData\\\\Local\\\\Temp\\\\pip-install-dmfuslau\\\\fiona_e9469071dfa849789f874b2c4dac4924\\\\setup.py'\"'\"'; __file__='\"'\"'C:\\\\Users\\\\ypanw\\\\AppData\\\\Local\\\\Temp\\\\pip-install-dmfuslau\\\\fiona_e9469071dfa849789f874b2c4dac4924\\\\setup.py'\"'\"';f=getattr(tokenize, '\"'\"'open'\"'\"', open)(__file__);code=f.read().replace('\"'\"'\\r\\n'\"'\"', '\"'\"'\\n'\"'\"');f.close();exec(compile(code, __file__, '\"'\"'exec'\"'\"'))' egg_info --egg-base 'C:\\Users\\ypanw\\AppData\\Local\\Temp\\pip-pip-egg-info-zchw0_gj'\n",
      "         cwd: C:\\Users\\ypanw\\AppData\\Local\\Temp\\pip-install-dmfuslau\\fiona_e9469071dfa849789f874b2c4dac4924\\\n",
      "    Complete output (1 lines):\n",
      "    A GDAL API version must be specified. Provide a path to gdal-config using a GDAL_CONFIG environment variable or use a GDAL_VERSION environment variable.\n",
      "    ----------------------------------------\n",
      "WARNING: Discarding https://files.pythonhosted.org/packages/6d/42/f4a7cac53b28fa70e9a93d0e89a24d33e14826dad6644b699362ad84dde0/Fiona-1.8.13.post1.tar.gz#sha256=1a432bf9fd56f089256c010da009c90d4a795c531a848132c965052185336600 (from https://pypi.org/simple/fiona/). Command errored out with exit status 1: python setup.py egg_info Check the logs for full command output.\n",
      "    ERROR: Command errored out with exit status 1:\n",
      "     command: 'C:\\Users\\ypanw\\anaconda3\\python.exe' -c 'import sys, setuptools, tokenize; sys.argv[0] = '\"'\"'C:\\\\Users\\\\ypanw\\\\AppData\\\\Local\\\\Temp\\\\pip-install-dmfuslau\\\\fiona_3af04ef46a844a78bc9b3b52057a32a7\\\\setup.py'\"'\"'; __file__='\"'\"'C:\\\\Users\\\\ypanw\\\\AppData\\\\Local\\\\Temp\\\\pip-install-dmfuslau\\\\fiona_3af04ef46a844a78bc9b3b52057a32a7\\\\setup.py'\"'\"';f=getattr(tokenize, '\"'\"'open'\"'\"', open)(__file__);code=f.read().replace('\"'\"'\\r\\n'\"'\"', '\"'\"'\\n'\"'\"');f.close();exec(compile(code, __file__, '\"'\"'exec'\"'\"'))' egg_info --egg-base 'C:\\Users\\ypanw\\AppData\\Local\\Temp\\pip-pip-egg-info-9ugadkkq'\n",
      "         cwd: C:\\Users\\ypanw\\AppData\\Local\\Temp\\pip-install-dmfuslau\\fiona_3af04ef46a844a78bc9b3b52057a32a7\\\n",
      "    Complete output (1 lines):\n",
      "    A GDAL API version must be specified. Provide a path to gdal-config using a GDAL_CONFIG environment variable or use a GDAL_VERSION environment variable.\n",
      "    ----------------------------------------\n",
      "WARNING: Discarding https://files.pythonhosted.org/packages/be/04/31d0a6f03943b1684f32c9b861be40c1fd282468fa6bd54ddf4a774e6b0f/Fiona-1.8.13.tar.gz#sha256=5ec34898c8b983a723fb4e949dd3e0ed7e691c303e51f6bfd61e52ac9ac813ae (from https://pypi.org/simple/fiona/). Command errored out with exit status 1: python setup.py egg_info Check the logs for full command output.\n",
      "    ERROR: Command errored out with exit status 1:\n",
      "     command: 'C:\\Users\\ypanw\\anaconda3\\python.exe' -c 'import sys, setuptools, tokenize; sys.argv[0] = '\"'\"'C:\\\\Users\\\\ypanw\\\\AppData\\\\Local\\\\Temp\\\\pip-install-dmfuslau\\\\fiona_368ad65bcedc4aa3bd2d111f60b37895\\\\setup.py'\"'\"'; __file__='\"'\"'C:\\\\Users\\\\ypanw\\\\AppData\\\\Local\\\\Temp\\\\pip-install-dmfuslau\\\\fiona_368ad65bcedc4aa3bd2d111f60b37895\\\\setup.py'\"'\"';f=getattr(tokenize, '\"'\"'open'\"'\"', open)(__file__);code=f.read().replace('\"'\"'\\r\\n'\"'\"', '\"'\"'\\n'\"'\"');f.close();exec(compile(code, __file__, '\"'\"'exec'\"'\"'))' egg_info --egg-base 'C:\\Users\\ypanw\\AppData\\Local\\Temp\\pip-pip-egg-info-1g3v_y54'\n",
      "         cwd: C:\\Users\\ypanw\\AppData\\Local\\Temp\\pip-install-dmfuslau\\fiona_368ad65bcedc4aa3bd2d111f60b37895\\\n",
      "    Complete output (1 lines):\n",
      "    A GDAL API version must be specified. Provide a path to gdal-config using a GDAL_CONFIG environment variable or use a GDAL_VERSION environment variable.\n",
      "    ----------------------------------------\n",
      "WARNING: Discarding https://files.pythonhosted.org/packages/97/d8/feab39987296437fbdc3029fb39752a14355d217d73b93471010b8dd63a3/Fiona-1.8.12.tar.gz#sha256=c9266ddf6ae2a64fcea20014ddf27f800ac07584f2fdb09c2a02f3b3a52e371c (from https://pypi.org/simple/fiona/). Command errored out with exit status 1: python setup.py egg_info Check the logs for full command output.\n",
      "    ERROR: Command errored out with exit status 1:\n",
      "     command: 'C:\\Users\\ypanw\\anaconda3\\python.exe' -c 'import sys, setuptools, tokenize; sys.argv[0] = '\"'\"'C:\\\\Users\\\\ypanw\\\\AppData\\\\Local\\\\Temp\\\\pip-install-dmfuslau\\\\fiona_c5d8279fe25d48088fa2761e450905d8\\\\setup.py'\"'\"'; __file__='\"'\"'C:\\\\Users\\\\ypanw\\\\AppData\\\\Local\\\\Temp\\\\pip-install-dmfuslau\\\\fiona_c5d8279fe25d48088fa2761e450905d8\\\\setup.py'\"'\"';f=getattr(tokenize, '\"'\"'open'\"'\"', open)(__file__);code=f.read().replace('\"'\"'\\r\\n'\"'\"', '\"'\"'\\n'\"'\"');f.close();exec(compile(code, __file__, '\"'\"'exec'\"'\"'))' egg_info --egg-base 'C:\\Users\\ypanw\\AppData\\Local\\Temp\\pip-pip-egg-info-5i7bdl45'\n",
      "         cwd: C:\\Users\\ypanw\\AppData\\Local\\Temp\\pip-install-dmfuslau\\fiona_c5d8279fe25d48088fa2761e450905d8\\\n",
      "    Complete output (1 lines):\n",
      "    A GDAL API version must be specified. Provide a path to gdal-config using a GDAL_CONFIG environment variable or use a GDAL_VERSION environment variable.\n",
      "    ----------------------------------------\n",
      "WARNING: Discarding https://files.pythonhosted.org/packages/9d/f4/0a0ddc6174c4a93679b5f1dd3535e7ef8989828e6d5f86112de681f8c87b/Fiona-1.8.11.tar.gz#sha256=1e7ca9e051f5bffa1c43c70d573da9ca223fc076b84fa73380614fc02b9eb7f6 (from https://pypi.org/simple/fiona/). Command errored out with exit status 1: python setup.py egg_info Check the logs for full command output.\n",
      "    ERROR: Command errored out with exit status 1:\n",
      "     command: 'C:\\Users\\ypanw\\anaconda3\\python.exe' -c 'import sys, setuptools, tokenize; sys.argv[0] = '\"'\"'C:\\\\Users\\\\ypanw\\\\AppData\\\\Local\\\\Temp\\\\pip-install-dmfuslau\\\\fiona_bd0e4813cc034cada728fde22ce10c98\\\\setup.py'\"'\"'; __file__='\"'\"'C:\\\\Users\\\\ypanw\\\\AppData\\\\Local\\\\Temp\\\\pip-install-dmfuslau\\\\fiona_bd0e4813cc034cada728fde22ce10c98\\\\setup.py'\"'\"';f=getattr(tokenize, '\"'\"'open'\"'\"', open)(__file__);code=f.read().replace('\"'\"'\\r\\n'\"'\"', '\"'\"'\\n'\"'\"');f.close();exec(compile(code, __file__, '\"'\"'exec'\"'\"'))' egg_info --egg-base 'C:\\Users\\ypanw\\AppData\\Local\\Temp\\pip-pip-egg-info-iae271v_'\n",
      "         cwd: C:\\Users\\ypanw\\AppData\\Local\\Temp\\pip-install-dmfuslau\\fiona_bd0e4813cc034cada728fde22ce10c98\\\n",
      "    Complete output (1 lines):\n",
      "    A GDAL API version must be specified. Provide a path to gdal-config using a GDAL_CONFIG environment variable or use a GDAL_VERSION environment variable.\n",
      "    ----------------------------------------\n",
      "WARNING: Discarding https://files.pythonhosted.org/packages/13/73/f80b491ed8559326fab202a6d6333a3cd6e8be1e9d782bc6c0d03d476457/Fiona-1.8.10.tar.gz#sha256=ff562eb2f3960e21f8c7f050ddd7f47a763869ea14afc2234a40df72666c6a2c (from https://pypi.org/simple/fiona/). Command errored out with exit status 1: python setup.py egg_info Check the logs for full command output.\n",
      "    ERROR: Command errored out with exit status 1:\n",
      "     command: 'C:\\Users\\ypanw\\anaconda3\\python.exe' -c 'import sys, setuptools, tokenize; sys.argv[0] = '\"'\"'C:\\\\Users\\\\ypanw\\\\AppData\\\\Local\\\\Temp\\\\pip-install-dmfuslau\\\\fiona_50407e3af7b74db9ac307cc0a86e5561\\\\setup.py'\"'\"'; __file__='\"'\"'C:\\\\Users\\\\ypanw\\\\AppData\\\\Local\\\\Temp\\\\pip-install-dmfuslau\\\\fiona_50407e3af7b74db9ac307cc0a86e5561\\\\setup.py'\"'\"';f=getattr(tokenize, '\"'\"'open'\"'\"', open)(__file__);code=f.read().replace('\"'\"'\\r\\n'\"'\"', '\"'\"'\\n'\"'\"');f.close();exec(compile(code, __file__, '\"'\"'exec'\"'\"'))' egg_info --egg-base 'C:\\Users\\ypanw\\AppData\\Local\\Temp\\pip-pip-egg-info-j3l6pucb'\n",
      "         cwd: C:\\Users\\ypanw\\AppData\\Local\\Temp\\pip-install-dmfuslau\\fiona_50407e3af7b74db9ac307cc0a86e5561\\\n",
      "    Complete output (1 lines):\n",
      "    A GDAL API version must be specified. Provide a path to gdal-config using a GDAL_CONFIG environment variable or use a GDAL_VERSION environment variable.\n",
      "    ----------------------------------------\n",
      "WARNING: Discarding https://files.pythonhosted.org/packages/9b/52/45e75507660ce0e86176d0f59b659560f687e2c7e9ebf82a10e7dcd2d3b7/Fiona-1.8.9.post2.tar.gz#sha256=210fb038b579fab38f35ddbdd31b9725f4d5099b3edfd4b87c983e5d47b79983 (from https://pypi.org/simple/fiona/). Command errored out with exit status 1: python setup.py egg_info Check the logs for full command output.\n",
      "    ERROR: Command errored out with exit status 1:\n",
      "     command: 'C:\\Users\\ypanw\\anaconda3\\python.exe' -c 'import sys, setuptools, tokenize; sys.argv[0] = '\"'\"'C:\\\\Users\\\\ypanw\\\\AppData\\\\Local\\\\Temp\\\\pip-install-dmfuslau\\\\fiona_2235b4bcf3994cd78940184758294c73\\\\setup.py'\"'\"'; __file__='\"'\"'C:\\\\Users\\\\ypanw\\\\AppData\\\\Local\\\\Temp\\\\pip-install-dmfuslau\\\\fiona_2235b4bcf3994cd78940184758294c73\\\\setup.py'\"'\"';f=getattr(tokenize, '\"'\"'open'\"'\"', open)(__file__);code=f.read().replace('\"'\"'\\r\\n'\"'\"', '\"'\"'\\n'\"'\"');f.close();exec(compile(code, __file__, '\"'\"'exec'\"'\"'))' egg_info --egg-base 'C:\\Users\\ypanw\\AppData\\Local\\Temp\\pip-pip-egg-info-kmn1se63'\n",
      "         cwd: C:\\Users\\ypanw\\AppData\\Local\\Temp\\pip-install-dmfuslau\\fiona_2235b4bcf3994cd78940184758294c73\\\n",
      "    Complete output (1 lines):\n",
      "    A GDAL API version must be specified. Provide a path to gdal-config using a GDAL_CONFIG environment variable or use a GDAL_VERSION environment variable.\n",
      "    ----------------------------------------\n",
      "WARNING: Discarding https://files.pythonhosted.org/packages/0e/a4/d9dd7399be809d3990f5000fb6ae43189ea26ae88be1bed3a4c9ddc1becc/Fiona-1.8.9.post1.tar.gz#sha256=d5e0ea0b8addffe9cba4cb59e2bd495b015230e7a1b1597974f5048211930199 (from https://pypi.org/simple/fiona/). Command errored out with exit status 1: python setup.py egg_info Check the logs for full command output.\n",
      "    ERROR: Command errored out with exit status 1:\n",
      "     command: 'C:\\Users\\ypanw\\anaconda3\\python.exe' -c 'import sys, setuptools, tokenize; sys.argv[0] = '\"'\"'C:\\\\Users\\\\ypanw\\\\AppData\\\\Local\\\\Temp\\\\pip-install-dmfuslau\\\\fiona_95c49b9b90444a099b076d92c3b16f0b\\\\setup.py'\"'\"'; __file__='\"'\"'C:\\\\Users\\\\ypanw\\\\AppData\\\\Local\\\\Temp\\\\pip-install-dmfuslau\\\\fiona_95c49b9b90444a099b076d92c3b16f0b\\\\setup.py'\"'\"';f=getattr(tokenize, '\"'\"'open'\"'\"', open)(__file__);code=f.read().replace('\"'\"'\\r\\n'\"'\"', '\"'\"'\\n'\"'\"');f.close();exec(compile(code, __file__, '\"'\"'exec'\"'\"'))' egg_info --egg-base 'C:\\Users\\ypanw\\AppData\\Local\\Temp\\pip-pip-egg-info-4dzzgext'\n",
      "         cwd: C:\\Users\\ypanw\\AppData\\Local\\Temp\\pip-install-dmfuslau\\fiona_95c49b9b90444a099b076d92c3b16f0b\\\n",
      "    Complete output (1 lines):\n",
      "    A GDAL API version must be specified. Provide a path to gdal-config using a GDAL_CONFIG environment variable or use a GDAL_VERSION environment variable.\n",
      "    ----------------------------------------\n",
      "WARNING: Discarding https://files.pythonhosted.org/packages/ad/92/dcbd8c54d697c22f299b5af63b6df3acfbd06c6d72e249614c05be99337c/Fiona-1.8.9.tar.gz#sha256=4dd6e2f5327c1174143c7c8594a75d373bc72f2c9a2a6daee312c3186a128add (from https://pypi.org/simple/fiona/). Command errored out with exit status 1: python setup.py egg_info Check the logs for full command output.\n",
      "    ERROR: Command errored out with exit status 1:\n",
      "     command: 'C:\\Users\\ypanw\\anaconda3\\python.exe' -c 'import sys, setuptools, tokenize; sys.argv[0] = '\"'\"'C:\\\\Users\\\\ypanw\\\\AppData\\\\Local\\\\Temp\\\\pip-install-dmfuslau\\\\fiona_2434e2af21a04ec6b576e4b7201f3f37\\\\setup.py'\"'\"'; __file__='\"'\"'C:\\\\Users\\\\ypanw\\\\AppData\\\\Local\\\\Temp\\\\pip-install-dmfuslau\\\\fiona_2434e2af21a04ec6b576e4b7201f3f37\\\\setup.py'\"'\"';f=getattr(tokenize, '\"'\"'open'\"'\"', open)(__file__);code=f.read().replace('\"'\"'\\r\\n'\"'\"', '\"'\"'\\n'\"'\"');f.close();exec(compile(code, __file__, '\"'\"'exec'\"'\"'))' egg_info --egg-base 'C:\\Users\\ypanw\\AppData\\Local\\Temp\\pip-pip-egg-info-3lm4joo2'\n",
      "         cwd: C:\\Users\\ypanw\\AppData\\Local\\Temp\\pip-install-dmfuslau\\fiona_2434e2af21a04ec6b576e4b7201f3f37\\\n",
      "    Complete output (1 lines):\n",
      "    A GDAL API version must be specified. Provide a path to gdal-config using a GDAL_CONFIG environment variable or use a GDAL_VERSION environment variable.\n",
      "    ----------------------------------------\n",
      "WARNING: Discarding https://files.pythonhosted.org/packages/94/7f/e288db1ad63d759d494c30caae34f865e0c6927588c490705e91b7134193/Fiona-1.8.8.tar.gz#sha256=711c3be73203b37812992089445a1e4e9d3d6b64e667389f7b15406e15a91e83 (from https://pypi.org/simple/fiona/). Command errored out with exit status 1: python setup.py egg_info Check the logs for full command output.\n",
      "    ERROR: Command errored out with exit status 1:\n",
      "     command: 'C:\\Users\\ypanw\\anaconda3\\python.exe' -c 'import sys, setuptools, tokenize; sys.argv[0] = '\"'\"'C:\\\\Users\\\\ypanw\\\\AppData\\\\Local\\\\Temp\\\\pip-install-dmfuslau\\\\fiona_ed36143fa3334809b5ff7768a212537b\\\\setup.py'\"'\"'; __file__='\"'\"'C:\\\\Users\\\\ypanw\\\\AppData\\\\Local\\\\Temp\\\\pip-install-dmfuslau\\\\fiona_ed36143fa3334809b5ff7768a212537b\\\\setup.py'\"'\"';f=getattr(tokenize, '\"'\"'open'\"'\"', open)(__file__);code=f.read().replace('\"'\"'\\r\\n'\"'\"', '\"'\"'\\n'\"'\"');f.close();exec(compile(code, __file__, '\"'\"'exec'\"'\"'))' egg_info --egg-base 'C:\\Users\\ypanw\\AppData\\Local\\Temp\\pip-pip-egg-info-_2hwt0dl'\n",
      "         cwd: C:\\Users\\ypanw\\AppData\\Local\\Temp\\pip-install-dmfuslau\\fiona_ed36143fa3334809b5ff7768a212537b\\\n",
      "    Complete output (1 lines):\n",
      "    A GDAL API version must be specified. Provide a path to gdal-config using a GDAL_CONFIG environment variable or use a GDAL_VERSION environment variable.\n",
      "    ----------------------------------------\n",
      "WARNING: Discarding https://files.pythonhosted.org/packages/78/62/daafd070aebefa639df247705b97f13f7cfad43895581b5cae41bd886709/Fiona-1.8.7.tar.gz#sha256=a55a23615bad3e142d4e4cda97bb5de83c778a80049222e9dffae93c13b5cf93 (from https://pypi.org/simple/fiona/). Command errored out with exit status 1: python setup.py egg_info Check the logs for full command output.\n",
      "    ERROR: Command errored out with exit status 1:\n",
      "     command: 'C:\\Users\\ypanw\\anaconda3\\python.exe' -c 'import sys, setuptools, tokenize; sys.argv[0] = '\"'\"'C:\\\\Users\\\\ypanw\\\\AppData\\\\Local\\\\Temp\\\\pip-install-dmfuslau\\\\fiona_5d96733053b344d897b43a05f2f8e13c\\\\setup.py'\"'\"'; __file__='\"'\"'C:\\\\Users\\\\ypanw\\\\AppData\\\\Local\\\\Temp\\\\pip-install-dmfuslau\\\\fiona_5d96733053b344d897b43a05f2f8e13c\\\\setup.py'\"'\"';f=getattr(tokenize, '\"'\"'open'\"'\"', open)(__file__);code=f.read().replace('\"'\"'\\r\\n'\"'\"', '\"'\"'\\n'\"'\"');f.close();exec(compile(code, __file__, '\"'\"'exec'\"'\"'))' egg_info --egg-base 'C:\\Users\\ypanw\\AppData\\Local\\Temp\\pip-pip-egg-info-c2pxpn1i'\n",
      "         cwd: C:\\Users\\ypanw\\AppData\\Local\\Temp\\pip-install-dmfuslau\\fiona_5d96733053b344d897b43a05f2f8e13c\\\n",
      "    Complete output (1 lines):\n",
      "    A GDAL API version must be specified. Provide a path to gdal-config using a GDAL_CONFIG environment variable or use a GDAL_VERSION environment variable.\n",
      "    ----------------------------------------\n",
      "WARNING: Discarding https://files.pythonhosted.org/packages/41/9d/63696e7b1de42aad294d4781199a408bec593d8fdb80a2b4a788c911a33b/Fiona-1.8.6.tar.gz#sha256=fa31dfe8855b9cd0b128b47a4df558f1b8eda90d2181bff1dd9854e5556efb3e (from https://pypi.org/simple/fiona/). Command errored out with exit status 1: python setup.py egg_info Check the logs for full command output.\n",
      "    ERROR: Command errored out with exit status 1:\n",
      "     command: 'C:\\Users\\ypanw\\anaconda3\\python.exe' -c 'import sys, setuptools, tokenize; sys.argv[0] = '\"'\"'C:\\\\Users\\\\ypanw\\\\AppData\\\\Local\\\\Temp\\\\pip-install-dmfuslau\\\\fiona_48faf01952634975a1ccecfccb5c2fa4\\\\setup.py'\"'\"'; __file__='\"'\"'C:\\\\Users\\\\ypanw\\\\AppData\\\\Local\\\\Temp\\\\pip-install-dmfuslau\\\\fiona_48faf01952634975a1ccecfccb5c2fa4\\\\setup.py'\"'\"';f=getattr(tokenize, '\"'\"'open'\"'\"', open)(__file__);code=f.read().replace('\"'\"'\\r\\n'\"'\"', '\"'\"'\\n'\"'\"');f.close();exec(compile(code, __file__, '\"'\"'exec'\"'\"'))' egg_info --egg-base 'C:\\Users\\ypanw\\AppData\\Local\\Temp\\pip-pip-egg-info-mgl4a6e3'\n",
      "         cwd: C:\\Users\\ypanw\\AppData\\Local\\Temp\\pip-install-dmfuslau\\fiona_48faf01952634975a1ccecfccb5c2fa4\\\n",
      "    Complete output (1 lines):\n",
      "    A GDAL API version must be specified. Provide a path to gdal-config using a GDAL_CONFIG environment variable or use a GDAL_VERSION environment variable.\n",
      "    ----------------------------------------\n",
      "WARNING: Discarding https://files.pythonhosted.org/packages/7b/af/1c2c83c4a8363a4ce9fea817b1910b5e071bed012e18257faa2a0ab3cfe7/Fiona-1.8.5.tar.gz#sha256=4f5cc2d449edbbf693c83e24cdada72de7c41297383d16fcc92387eb445e9d35 (from https://pypi.org/simple/fiona/). Command errored out with exit status 1: python setup.py egg_info Check the logs for full command output.\n",
      "    ERROR: Command errored out with exit status 1:\n",
      "     command: 'C:\\Users\\ypanw\\anaconda3\\python.exe' -c 'import sys, setuptools, tokenize; sys.argv[0] = '\"'\"'C:\\\\Users\\\\ypanw\\\\AppData\\\\Local\\\\Temp\\\\pip-install-dmfuslau\\\\fiona_cfcf181d29c842c490cd700ef3e80b4e\\\\setup.py'\"'\"'; __file__='\"'\"'C:\\\\Users\\\\ypanw\\\\AppData\\\\Local\\\\Temp\\\\pip-install-dmfuslau\\\\fiona_cfcf181d29c842c490cd700ef3e80b4e\\\\setup.py'\"'\"';f=getattr(tokenize, '\"'\"'open'\"'\"', open)(__file__);code=f.read().replace('\"'\"'\\r\\n'\"'\"', '\"'\"'\\n'\"'\"');f.close();exec(compile(code, __file__, '\"'\"'exec'\"'\"'))' egg_info --egg-base 'C:\\Users\\ypanw\\AppData\\Local\\Temp\\pip-pip-egg-info-10ugjv6u'\n",
      "         cwd: C:\\Users\\ypanw\\AppData\\Local\\Temp\\pip-install-dmfuslau\\fiona_cfcf181d29c842c490cd700ef3e80b4e\\\n",
      "    Complete output (1 lines):\n",
      "    A GDAL API version must be specified. Provide a path to gdal-config using a GDAL_CONFIG environment variable or use a GDAL_VERSION environment variable.\n",
      "    ----------------------------------------\n",
      "WARNING: Discarding https://files.pythonhosted.org/packages/3a/16/84960540e9fce61d767fd2f0f1d95f4c63e99ab5d8fddc308e8b51b059b8/Fiona-1.8.4.tar.gz#sha256=aec9ab2e3513c9503ec123b1a8573bee55fc6a66e2ac07088c3376bf6738a424 (from https://pypi.org/simple/fiona/). Command errored out with exit status 1: python setup.py egg_info Check the logs for full command output.\n",
      "    ERROR: Command errored out with exit status 1:\n",
      "     command: 'C:\\Users\\ypanw\\anaconda3\\python.exe' -c 'import sys, setuptools, tokenize; sys.argv[0] = '\"'\"'C:\\\\Users\\\\ypanw\\\\AppData\\\\Local\\\\Temp\\\\pip-install-dmfuslau\\\\fiona_4cf5324769114958820bbd4cc4518572\\\\setup.py'\"'\"'; __file__='\"'\"'C:\\\\Users\\\\ypanw\\\\AppData\\\\Local\\\\Temp\\\\pip-install-dmfuslau\\\\fiona_4cf5324769114958820bbd4cc4518572\\\\setup.py'\"'\"';f=getattr(tokenize, '\"'\"'open'\"'\"', open)(__file__);code=f.read().replace('\"'\"'\\r\\n'\"'\"', '\"'\"'\\n'\"'\"');f.close();exec(compile(code, __file__, '\"'\"'exec'\"'\"'))' egg_info --egg-base 'C:\\Users\\ypanw\\AppData\\Local\\Temp\\pip-pip-egg-info-ca12ync8'\n",
      "         cwd: C:\\Users\\ypanw\\AppData\\Local\\Temp\\pip-install-dmfuslau\\fiona_4cf5324769114958820bbd4cc4518572\\\n",
      "    Complete output (1 lines):\n",
      "    A GDAL API version must be specified. Provide a path to gdal-config using a GDAL_CONFIG environment variable or use a GDAL_VERSION environment variable.\n",
      "    ----------------------------------------\n",
      "WARNING: Discarding https://files.pythonhosted.org/packages/46/d1/fcdb32513a03abfde0d97fd9782ce0f8cc0540fa6c6ce783e87b94064964/Fiona-1.8.3.tar.gz#sha256=3e831100a23c3b6cd32b98baf0c9e2119d909b44a5cf4533d3625f61dcf2d2b1 (from https://pypi.org/simple/fiona/). Command errored out with exit status 1: python setup.py egg_info Check the logs for full command output.\n",
      "    ERROR: Command errored out with exit status 1:\n",
      "     command: 'C:\\Users\\ypanw\\anaconda3\\python.exe' -c 'import sys, setuptools, tokenize; sys.argv[0] = '\"'\"'C:\\\\Users\\\\ypanw\\\\AppData\\\\Local\\\\Temp\\\\pip-install-dmfuslau\\\\fiona_81772ad653df4cc0bc08b600204ffaf0\\\\setup.py'\"'\"'; __file__='\"'\"'C:\\\\Users\\\\ypanw\\\\AppData\\\\Local\\\\Temp\\\\pip-install-dmfuslau\\\\fiona_81772ad653df4cc0bc08b600204ffaf0\\\\setup.py'\"'\"';f=getattr(tokenize, '\"'\"'open'\"'\"', open)(__file__);code=f.read().replace('\"'\"'\\r\\n'\"'\"', '\"'\"'\\n'\"'\"');f.close();exec(compile(code, __file__, '\"'\"'exec'\"'\"'))' egg_info --egg-base 'C:\\Users\\ypanw\\AppData\\Local\\Temp\\pip-pip-egg-info-8gc2bmts'\n",
      "         cwd: C:\\Users\\ypanw\\AppData\\Local\\Temp\\pip-install-dmfuslau\\fiona_81772ad653df4cc0bc08b600204ffaf0\\\n",
      "    Complete output (1 lines):\n",
      "    A GDAL API version must be specified. Provide a path to gdal-config using a GDAL_CONFIG environment variable or use a GDAL_VERSION environment variable.\n",
      "    ----------------------------------------\n",
      "WARNING: Discarding https://files.pythonhosted.org/packages/25/50/0466d5d83e1859c5ca38351ee932d64cc5635f9d4dad522879e58f4b0018/Fiona-1.8.2.tar.gz#sha256=4c6419b7ac29136708029f6a44b4ccd458735a4d241016c7b1bab41685c08d8f (from https://pypi.org/simple/fiona/). Command errored out with exit status 1: python setup.py egg_info Check the logs for full command output.\n",
      "    ERROR: Command errored out with exit status 1:\n",
      "     command: 'C:\\Users\\ypanw\\anaconda3\\python.exe' -c 'import sys, setuptools, tokenize; sys.argv[0] = '\"'\"'C:\\\\Users\\\\ypanw\\\\AppData\\\\Local\\\\Temp\\\\pip-install-dmfuslau\\\\fiona_45e7e39f26754b68a4ce610815e2130b\\\\setup.py'\"'\"'; __file__='\"'\"'C:\\\\Users\\\\ypanw\\\\AppData\\\\Local\\\\Temp\\\\pip-install-dmfuslau\\\\fiona_45e7e39f26754b68a4ce610815e2130b\\\\setup.py'\"'\"';f=getattr(tokenize, '\"'\"'open'\"'\"', open)(__file__);code=f.read().replace('\"'\"'\\r\\n'\"'\"', '\"'\"'\\n'\"'\"');f.close();exec(compile(code, __file__, '\"'\"'exec'\"'\"'))' egg_info --egg-base 'C:\\Users\\ypanw\\AppData\\Local\\Temp\\pip-pip-egg-info-9_58a297'\n",
      "         cwd: C:\\Users\\ypanw\\AppData\\Local\\Temp\\pip-install-dmfuslau\\fiona_45e7e39f26754b68a4ce610815e2130b\\\n",
      "    Complete output (1 lines):\n",
      "    A GDAL API version must be specified. Provide a path to gdal-config using a GDAL_CONFIG environment variable or use a GDAL_VERSION environment variable.\n",
      "    ----------------------------------------\n",
      "WARNING: Discarding https://files.pythonhosted.org/packages/3e/5f/0c6704efeea2ff3fba7f54cc6ec38070157f21bc1cffa7bdfa7c9f6b8f7a/Fiona-1.8.1.tar.gz#sha256=4c34bb4c5cd788aaf14e5484c3b7de407b1a8a7c7b2d29bbb2e8b37931e83b8d (from https://pypi.org/simple/fiona/). Command errored out with exit status 1: python setup.py egg_info Check the logs for full command output.\n",
      "    ERROR: Command errored out with exit status 1:\n",
      "     command: 'C:\\Users\\ypanw\\anaconda3\\python.exe' -c 'import sys, setuptools, tokenize; sys.argv[0] = '\"'\"'C:\\\\Users\\\\ypanw\\\\AppData\\\\Local\\\\Temp\\\\pip-install-dmfuslau\\\\fiona_9fc7e7db1ee740108b7a0abe90d00c15\\\\setup.py'\"'\"'; __file__='\"'\"'C:\\\\Users\\\\ypanw\\\\AppData\\\\Local\\\\Temp\\\\pip-install-dmfuslau\\\\fiona_9fc7e7db1ee740108b7a0abe90d00c15\\\\setup.py'\"'\"';f=getattr(tokenize, '\"'\"'open'\"'\"', open)(__file__);code=f.read().replace('\"'\"'\\r\\n'\"'\"', '\"'\"'\\n'\"'\"');f.close();exec(compile(code, __file__, '\"'\"'exec'\"'\"'))' egg_info --egg-base 'C:\\Users\\ypanw\\AppData\\Local\\Temp\\pip-pip-egg-info-jnbfg26n'\n",
      "         cwd: C:\\Users\\ypanw\\AppData\\Local\\Temp\\pip-install-dmfuslau\\fiona_9fc7e7db1ee740108b7a0abe90d00c15\\\n",
      "    Complete output (1 lines):\n",
      "    A GDAL API version must be specified. Provide a path to gdal-config using a GDAL_CONFIG environment variable or use a GDAL_VERSION environment variable.\n",
      "    ----------------------------------------\n",
      "WARNING: Discarding https://files.pythonhosted.org/packages/2a/bd/c1efc2680f338e5941121c776d6323af6b9698ac739e22ba523cee348a7f/Fiona-1.8.0.tar.gz#sha256=20141a9ece06daa7bb4333fba640c2fe39a49f8aca5492d1da8595d41e91844a (from https://pypi.org/simple/fiona/). Command errored out with exit status 1: python setup.py egg_info Check the logs for full command output.\n",
      "  ERROR: Command errored out with exit status 1:\n",
      "   command: 'C:\\Users\\ypanw\\anaconda3\\python.exe' -u -c 'import sys, setuptools, tokenize; sys.argv[0] = '\"'\"'C:\\\\Users\\\\ypanw\\\\AppData\\\\Local\\\\Temp\\\\pip-install-dmfuslau\\\\fiona_efd6e019c3ed459aa3e2e8190ef28534\\\\setup.py'\"'\"'; __file__='\"'\"'C:\\\\Users\\\\ypanw\\\\AppData\\\\Local\\\\Temp\\\\pip-install-dmfuslau\\\\fiona_efd6e019c3ed459aa3e2e8190ef28534\\\\setup.py'\"'\"';f=getattr(tokenize, '\"'\"'open'\"'\"', open)(__file__);code=f.read().replace('\"'\"'\\r\\n'\"'\"', '\"'\"'\\n'\"'\"');f.close();exec(compile(code, __file__, '\"'\"'exec'\"'\"'))' bdist_wheel -d 'C:\\Users\\ypanw\\AppData\\Local\\Temp\\pip-wheel-r9zv_5uu'\n",
      "       cwd: C:\\Users\\ypanw\\AppData\\Local\\Temp\\pip-install-dmfuslau\\fiona_efd6e019c3ed459aa3e2e8190ef28534\\\n",
      "  Complete output (42 lines):\n",
      "  C:\\Users\\ypanw\\anaconda3\\lib\\distutils\\dist.py:274: UserWarning: Unknown distribution option: 'metadata_version'\n",
      "    warnings.warn(msg)\n",
      "  C:\\Users\\ypanw\\anaconda3\\lib\\distutils\\dist.py:274: UserWarning: Unknown distribution option: 'requires_python'\n",
      "    warnings.warn(msg)\n",
      "  C:\\Users\\ypanw\\anaconda3\\lib\\distutils\\dist.py:274: UserWarning: Unknown distribution option: 'requires_external'\n",
      "    warnings.warn(msg)\n",
      "  running bdist_wheel\n",
      "  running build\n",
      "  running build_py\n",
      "  creating build\n",
      "  creating build\\lib.win-amd64-3.8\n",
      "  creating build\\lib.win-amd64-3.8\\fiona\n",
      "  copying .\\fiona\\collection.py -> build\\lib.win-amd64-3.8\\fiona\n",
      "  copying .\\fiona\\compat.py -> build\\lib.win-amd64-3.8\\fiona\n",
      "  copying .\\fiona\\crs.py -> build\\lib.win-amd64-3.8\\fiona\n",
      "  copying .\\fiona\\drvsupport.py -> build\\lib.win-amd64-3.8\\fiona\n",
      "  copying .\\fiona\\errors.py -> build\\lib.win-amd64-3.8\\fiona\n",
      "  copying .\\fiona\\inspector.py -> build\\lib.win-amd64-3.8\\fiona\n",
      "  copying .\\fiona\\rfc3339.py -> build\\lib.win-amd64-3.8\\fiona\n",
      "  copying .\\fiona\\tool.py -> build\\lib.win-amd64-3.8\\fiona\n",
      "  copying .\\fiona\\transform.py -> build\\lib.win-amd64-3.8\\fiona\n",
      "  copying .\\fiona\\__init__.py -> build\\lib.win-amd64-3.8\\fiona\n",
      "  creating build\\lib.win-amd64-3.8\\fiona\\fio\n",
      "  copying .\\fiona\\fio\\bounds.py -> build\\lib.win-amd64-3.8\\fiona\\fio\n",
      "  copying .\\fiona\\fio\\calc.py -> build\\lib.win-amd64-3.8\\fiona\\fio\n",
      "  copying .\\fiona\\fio\\cat.py -> build\\lib.win-amd64-3.8\\fiona\\fio\n",
      "  copying .\\fiona\\fio\\collect.py -> build\\lib.win-amd64-3.8\\fiona\\fio\n",
      "  copying .\\fiona\\fio\\distrib.py -> build\\lib.win-amd64-3.8\\fiona\\fio\n",
      "  copying .\\fiona\\fio\\dump.py -> build\\lib.win-amd64-3.8\\fiona\\fio\n",
      "  copying .\\fiona\\fio\\env.py -> build\\lib.win-amd64-3.8\\fiona\\fio\n",
      "  copying .\\fiona\\fio\\filter.py -> build\\lib.win-amd64-3.8\\fiona\\fio\n",
      "  copying .\\fiona\\fio\\helpers.py -> build\\lib.win-amd64-3.8\\fiona\\fio\n",
      "  copying .\\fiona\\fio\\info.py -> build\\lib.win-amd64-3.8\\fiona\\fio\n",
      "  copying .\\fiona\\fio\\insp.py -> build\\lib.win-amd64-3.8\\fiona\\fio\n",
      "  copying .\\fiona\\fio\\load.py -> build\\lib.win-amd64-3.8\\fiona\\fio\n",
      "  copying .\\fiona\\fio\\ls.py -> build\\lib.win-amd64-3.8\\fiona\\fio\n",
      "  copying .\\fiona\\fio\\main.py -> build\\lib.win-amd64-3.8\\fiona\\fio\n",
      "  copying .\\fiona\\fio\\options.py -> build\\lib.win-amd64-3.8\\fiona\\fio\n",
      "  copying .\\fiona\\fio\\__init__.py -> build\\lib.win-amd64-3.8\\fiona\\fio\n",
      "  running build_ext\n",
      "  building 'fiona._transform' extension\n",
      "  error: Microsoft Visual C++ 14.0 or greater is required. Get it with \"Microsoft C++ Build Tools\": https://visualstudio.microsoft.com/visual-cpp-build-tools/\n",
      "  ----------------------------------------\n",
      "  ERROR: Failed building wheel for fiona\n",
      "    ERROR: Command errored out with exit status 1:\n",
      "     command: 'C:\\Users\\ypanw\\anaconda3\\python.exe' -u -c 'import sys, setuptools, tokenize; sys.argv[0] = '\"'\"'C:\\\\Users\\\\ypanw\\\\AppData\\\\Local\\\\Temp\\\\pip-install-dmfuslau\\\\fiona_efd6e019c3ed459aa3e2e8190ef28534\\\\setup.py'\"'\"'; __file__='\"'\"'C:\\\\Users\\\\ypanw\\\\AppData\\\\Local\\\\Temp\\\\pip-install-dmfuslau\\\\fiona_efd6e019c3ed459aa3e2e8190ef28534\\\\setup.py'\"'\"';f=getattr(tokenize, '\"'\"'open'\"'\"', open)(__file__);code=f.read().replace('\"'\"'\\r\\n'\"'\"', '\"'\"'\\n'\"'\"');f.close();exec(compile(code, __file__, '\"'\"'exec'\"'\"'))' install --record 'C:\\Users\\ypanw\\AppData\\Local\\Temp\\pip-record-in0h5awt\\install-record.txt' --single-version-externally-managed --compile --install-headers 'C:\\Users\\ypanw\\anaconda3\\Include\\fiona'\n",
      "         cwd: C:\\Users\\ypanw\\AppData\\Local\\Temp\\pip-install-dmfuslau\\fiona_efd6e019c3ed459aa3e2e8190ef28534\\\n",
      "    Complete output (12 lines):\n",
      "    C:\\Users\\ypanw\\anaconda3\\lib\\distutils\\dist.py:274: UserWarning: Unknown distribution option: 'metadata_version'\n",
      "      warnings.warn(msg)\n",
      "    C:\\Users\\ypanw\\anaconda3\\lib\\distutils\\dist.py:274: UserWarning: Unknown distribution option: 'requires_python'\n",
      "      warnings.warn(msg)\n",
      "    C:\\Users\\ypanw\\anaconda3\\lib\\distutils\\dist.py:274: UserWarning: Unknown distribution option: 'requires_external'\n",
      "      warnings.warn(msg)\n",
      "    running install\n",
      "    running build\n",
      "    running build_py\n",
      "    running build_ext\n",
      "    building 'fiona._transform' extension\n",
      "    error: Microsoft Visual C++ 14.0 or greater is required. Get it with \"Microsoft C++ Build Tools\": https://visualstudio.microsoft.com/visual-cpp-build-tools/\n",
      "    ----------------------------------------\n",
      "ERROR: Command errored out with exit status 1: 'C:\\Users\\ypanw\\anaconda3\\python.exe' -u -c 'import sys, setuptools, tokenize; sys.argv[0] = '\"'\"'C:\\\\Users\\\\ypanw\\\\AppData\\\\Local\\\\Temp\\\\pip-install-dmfuslau\\\\fiona_efd6e019c3ed459aa3e2e8190ef28534\\\\setup.py'\"'\"'; __file__='\"'\"'C:\\\\Users\\\\ypanw\\\\AppData\\\\Local\\\\Temp\\\\pip-install-dmfuslau\\\\fiona_efd6e019c3ed459aa3e2e8190ef28534\\\\setup.py'\"'\"';f=getattr(tokenize, '\"'\"'open'\"'\"', open)(__file__);code=f.read().replace('\"'\"'\\r\\n'\"'\"', '\"'\"'\\n'\"'\"');f.close();exec(compile(code, __file__, '\"'\"'exec'\"'\"'))' install --record 'C:\\Users\\ypanw\\AppData\\Local\\Temp\\pip-record-in0h5awt\\install-record.txt' --single-version-externally-managed --compile --install-headers 'C:\\Users\\ypanw\\anaconda3\\Include\\fiona' Check the logs for full command output.\n"
     ]
    }
   ],
   "source": [
    "pip install geopandas"
   ]
  },
  {
   "cell_type": "code",
   "execution_count": 217,
   "id": "7cccb5b3",
   "metadata": {},
   "outputs": [
    {
     "ename": "ModuleNotFoundError",
     "evalue": "No module named 'geopandas'",
     "output_type": "error",
     "traceback": [
      "\u001b[1;31m---------------------------------------------------------------------------\u001b[0m",
      "\u001b[1;31mModuleNotFoundError\u001b[0m                       Traceback (most recent call last)",
      "\u001b[1;32m<ipython-input-217-a62d01c1d62e>\u001b[0m in \u001b[0;36m<module>\u001b[1;34m\u001b[0m\n\u001b[1;32m----> 1\u001b[1;33m \u001b[1;32mimport\u001b[0m \u001b[0mgeopandas\u001b[0m \u001b[1;32mas\u001b[0m \u001b[0mgpd\u001b[0m\u001b[1;33m\u001b[0m\u001b[1;33m\u001b[0m\u001b[0m\n\u001b[0m",
      "\u001b[1;31mModuleNotFoundError\u001b[0m: No module named 'geopandas'"
     ]
    }
   ],
   "source": [
    "import geopandas as gpd"
   ]
  },
  {
   "cell_type": "code",
   "execution_count": null,
   "id": "062c0b17",
   "metadata": {},
   "outputs": [],
   "source": []
  }
 ],
 "metadata": {
  "kernelspec": {
   "display_name": "Python 3",
   "language": "python",
   "name": "python3"
  },
  "language_info": {
   "codemirror_mode": {
    "name": "ipython",
    "version": 3
   },
   "file_extension": ".py",
   "mimetype": "text/x-python",
   "name": "python",
   "nbconvert_exporter": "python",
   "pygments_lexer": "ipython3",
   "version": "3.8.8"
  }
 },
 "nbformat": 4,
 "nbformat_minor": 5
}
